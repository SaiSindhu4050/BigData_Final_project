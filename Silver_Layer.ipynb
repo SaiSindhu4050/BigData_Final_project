{
 "cells": [
  {
   "cell_type": "code",
   "execution_count": 0,
   "metadata": {
    "application/vnd.databricks.v1+cell": {
     "cellMetadata": {
      "byteLimit": 2048000,
      "rowLimit": 10000
     },
     "inputWidgets": {},
     "nuid": "24a61135-9817-4635-b6bc-ea3450a3b340",
     "showTitle": false,
     "tableResultSettingsMap": {},
     "title": ""
    }
   },
   "outputs": [
    {
     "output_type": "stream",
     "name": "stdout",
     "output_type": "stream",
     "text": [
      "root\n |-- id: integer (nullable = true)\n |-- title: string (nullable = true)\n |-- release_date: string (nullable = true)\n |-- vote_average: string (nullable = true)\n |-- popularity: double (nullable = true)\n |-- vote_count: double (nullable = true)\n |-- genre: string (nullable = true)\n |-- original_language: string (nullable = true)\n\n+------+------------------------------+------------+------------+----------+----------+------------------------+-----------------+\n|id    |title                         |release_date|vote_average|popularity|vote_count|genre                   |original_language|\n+------+------------------------------+------------+------------+----------+----------+------------------------+-----------------+\n|49948 |Fantasia 2000                 |1/1/2000    |6.966       |14.509    |1264.0    |Animation, Family, Music|en               |\n|41245 |Peppermint Candy              |1/1/2000    |7.5         |11.201    |255.0     |Drama                   |ko               |\n|46462 |Nautilus                      |1/1/2000    |3           |6.597     |7.0       |Action, Science Fiction |en               |\n|477164|A Profile of In Which We Serve|1/1/2000    |0           |5.274     |0.0       |Documentary             |en               |\n|55178 |D-Day                         |1/1/2000    |5.7         |4.95      |23.0      |TV Movie, Crime, Drama  |da               |\n+------+------------------------------+------------+------------+----------+----------+------------------------+-----------------+\nonly showing top 5 rows\n\nTotal Rows: 104905, Total Columns: 8\nAll columns in the DataFrame:\n['id', 'title', 'release_date', 'vote_average', 'popularity', 'vote_count', 'genre', 'original_language']\n"
     ]
    }
   ],
   "source": [
    "from pyspark.sql import SparkSession\n",
    "\n",
    "# Initialize Spark session\n",
    "spark = SparkSession.builder.appName(\"LoadCSV\").getOrCreate()\n",
    "\n",
    "# Load the CSV file into a DataFrame\n",
    "df = (\n",
    "    spark.read.format(\"csv\")  # Specify the format as CSV\n",
    "    .option(\"header\", True)  # Use the first row as column headers\n",
    "    .option(\"inferSchema\", True)  # Automatically infer data types\n",
    "    .option(\"nullValue\", \"null\")  # Handle null values in the dataset\n",
    "    .load(\"dbfs:/FileStore/tmdb_API__movies_data_2000_2010.csv\")  # Path to your CSV file\n",
    ")\n",
    "\n",
    "# Display schema to confirm correct loading\n",
    "df.printSchema()\n",
    "\n",
    "# Show a sample of the data to verify it loaded correctly\n",
    "df.show(5, truncate=False)\n",
    "\n",
    "# Count rows and columns for verification\n",
    "row_count = df.count()\n",
    "column_count = len(df.columns)\n",
    "print(f\"Total Rows: {row_count}, Total Columns: {column_count}\")\n",
    "print(\"All columns in the DataFrame:\")\n",
    "print(df.columns)\n"
   ]
  },
  {
   "cell_type": "code",
   "execution_count": 0,
   "metadata": {
    "application/vnd.databricks.v1+cell": {
     "cellMetadata": {
      "byteLimit": 2048000,
      "rowLimit": 10000
     },
     "inputWidgets": {},
     "nuid": "06e22eb0-1732-4d7d-822f-cc4964404c45",
     "showTitle": false,
     "tableResultSettingsMap": {},
     "title": ""
    }
   },
   "outputs": [],
   "source": [
    "from pyspark.sql import DataFrame\n",
    "from pyspark.sql.types import StructType, DataType,StringType, FloatType, IntegerType, DoubleType, DateType, VarcharType\n",
    "from pyspark.sql.functions import (\n",
    "    col, when, sha2, regexp_replace, encode, lit, isnan,\n",
    "    coalesce, create_map, concat, substring,current_timestamp, trim, lower, initcap,\n",
    ")\n",
    "from typing import Dict, List, Union\n",
    "import pyspark.sql.functions as F\n",
    "from pyspark.sql import SparkSession\n",
    "import re"
   ]
  },
  {
   "cell_type": "code",
   "execution_count": 0,
   "metadata": {
    "application/vnd.databricks.v1+cell": {
     "cellMetadata": {
      "byteLimit": 2048000,
      "rowLimit": 10000
     },
     "inputWidgets": {},
     "nuid": "5033c5df-612e-4b3c-9c88-1972b7eba598",
     "showTitle": false,
     "tableResultSettingsMap": {},
     "title": ""
    }
   },
   "outputs": [
    {
     "output_type": "stream",
     "name": "stdout",
     "output_type": "stream",
     "text": [
      "Original Schema:\nroot\n |-- id: integer (nullable = true)\n |-- title: string (nullable = true)\n |-- release_date: date (nullable = true)\n |-- vote_average: float (nullable = true)\n |-- popularity: double (nullable = true)\n |-- vote_count: double (nullable = true)\n |-- genre: string (nullable = true)\n |-- original_language: string (nullable = true)\n\n\nUpdated Schema:\nroot\n |-- id: integer (nullable = true)\n |-- title: string (nullable = true)\n |-- release_date: date (nullable = true)\n |-- vote_average: float (nullable = true)\n |-- popularity: double (nullable = true)\n |-- vote_count: double (nullable = true)\n |-- genre: string (nullable = true)\n |-- original_language: string (nullable = true)\n\n\nTotal Rows: 104905, Total Columns: 8\n"
     ]
    }
   ],
   "source": [
    "\n",
    "# Print the original schema\n",
    "print(\"Original Schema:\")\n",
    "df.printSchema()\n",
    "\n",
    "# Change the schema as specified\n",
    "df = df.select(\n",
    "    col(\"id\").cast(\"integer\").alias(\"id\"),\n",
    "    col(\"title\").cast(\"string\").alias(\"title\"),\n",
    "    col(\"release_date\").cast(\"date\").alias(\"release_date\"),  # Change to date\n",
    "    col(\"vote_average\").cast(\"float\").alias(\"vote_average\"),      # Change to float\n",
    "    col(\"popularity\").cast(\"double\").alias(\"popularity\"),\n",
    "    col(\"vote_count\").cast(\"double\").alias(\"vote_count\"),\n",
    "    col(\"genre\").cast(\"string\").alias(\"genre\"),\n",
    "    col(\"original_language\").cast(\"string\").alias(\"original_language\")\n",
    ")\n",
    "\n",
    "# Print the new schema to confirm changes\n",
    "print(\"\\nUpdated Schema:\")\n",
    "df.printSchema()\n",
    "\n",
    "\n",
    "\n",
    "# Count rows and columns for verification\n",
    "row_count = df.count()\n",
    "column_count = len(df.columns)\n",
    "print(f\"\\nTotal Rows: {row_count}, Total Columns: {column_count}\")\n",
    "\n"
   ]
  },
  {
   "cell_type": "code",
   "execution_count": 0,
   "metadata": {
    "application/vnd.databricks.v1+cell": {
     "cellMetadata": {
      "byteLimit": 2048000,
      "rowLimit": 10000
     },
     "inputWidgets": {},
     "nuid": "56357ca5-a13d-4252-9c4e-e0e63eeb5b3d",
     "showTitle": false,
     "tableResultSettingsMap": {},
     "title": ""
    }
   },
   "outputs": [
    {
     "output_type": "stream",
     "name": "stdout",
     "output_type": "stream",
     "text": [
      "\nOriginal Schema:\nroot\n |-- id: integer (nullable = true)\n |-- title: string (nullable = true)\n |-- release_date: string (nullable = true)\n |-- vote_average: string (nullable = true)\n |-- popularity: double (nullable = true)\n |-- vote_count: double (nullable = true)\n |-- genre: string (nullable = true)\n |-- original_language: string (nullable = true)\n\n\nSample Data:\n+------+------------------------------+------------+------------+----------+----------+------------------------+-----------------+\n|id    |title                         |release_date|vote_average|popularity|vote_count|genre                   |original_language|\n+------+------------------------------+------------+------------+----------+----------+------------------------+-----------------+\n|49948 |Fantasia 2000                 |1/1/2000    |6.966       |14.509    |1264.0    |Animation, Family, Music|en               |\n|41245 |Peppermint Candy              |1/1/2000    |7.5         |11.201    |255.0     |Drama                   |ko               |\n|46462 |Nautilus                      |1/1/2000    |3           |6.597     |7.0       |Action, Science Fiction |en               |\n|477164|A Profile of In Which We Serve|1/1/2000    |0           |5.274     |0.0       |Documentary             |en               |\n|55178 |D-Day                         |1/1/2000    |5.7         |4.95      |23.0      |TV Movie, Crime, Drama  |da               |\n+------+------------------------------+------------+------------+----------+----------+------------------------+-----------------+\nonly showing top 5 rows\n\n\nUpdated Schema:\nroot\n |-- id: integer (nullable = true)\n |-- title: string (nullable = true)\n |-- release_date: date (nullable = true)\n |-- vote_average: string (nullable = true)\n |-- popularity: double (nullable = true)\n |-- vote_count: double (nullable = true)\n |-- genre: string (nullable = true)\n |-- original_language: string (nullable = true)\n\n\nUpdated Sample Data:\n+------+------------------------------+------------+------------+----------+----------+------------------------+-----------------+\n|id    |title                         |release_date|vote_average|popularity|vote_count|genre                   |original_language|\n+------+------------------------------+------------+------------+----------+----------+------------------------+-----------------+\n|49948 |Fantasia 2000                 |2000-01-01  |6.966       |14.509    |1264.0    |Animation, Family, Music|en               |\n|41245 |Peppermint Candy              |2000-01-01  |7.5         |11.201    |255.0     |Drama                   |ko               |\n|46462 |Nautilus                      |2000-01-01  |3           |6.597     |7.0       |Action, Science Fiction |en               |\n|477164|A Profile of In Which We Serve|2000-01-01  |0           |5.274     |0.0       |Documentary             |en               |\n|55178 |D-Day                         |2000-01-01  |5.7         |4.95      |23.0      |TV Movie, Crime, Drama  |da               |\n+------+------------------------------+------------+------------+----------+----------+------------------------+-----------------+\nonly showing top 5 rows\n\n\nTotal Rows: 104905, Total Columns: 8\nAll columns in the DataFrame:\n['id', 'title', 'release_date', 'vote_average', 'popularity', 'vote_count', 'genre', 'original_language']\n"
     ]
    }
   ],
   "source": [
    "\n",
    "from pyspark.sql import SparkSession\n",
    "from pyspark.sql.functions import col, to_date, when\n",
    "\n",
    "# Initialize Spark session\n",
    "spark = SparkSession.builder.appName(\"LoadCSV\").getOrCreate()\n",
    "\n",
    "# Set legacy time parser policy\n",
    "spark.conf.set(\"spark.sql.legacy.timeParserPolicy\", \"LEGACY\")\n",
    "\n",
    "# Load the CSV file into a DataFrame named df (assuming it's already loaded)\n",
    "df = (\n",
    "    spark.read.format(\"csv\")  \n",
    "    .option(\"header\", True)  \n",
    "    .option(\"inferSchema\", True)  \n",
    "    .option(\"nullValue\", \"null\")  \n",
    "    .load(\"dbfs:/FileStore/tmdb_API__movies_data_2000_2010.csv\")  \n",
    ")\n",
    "\n",
    "# Display original schema\n",
    "print(\"\\nOriginal Schema:\")\n",
    "df.printSchema()\n",
    "\n",
    "# Show a sample of data\n",
    "print(\"\\nSample Data:\")\n",
    "df.show(5, truncate=False)\n",
    "\n",
    "# Convert 'release_date' column from string to date format\n",
    "df = df.withColumn(\n",
    "    \"release_date\",\n",
    "    when(to_date(col(\"release_date\"), \"MM/dd/yyyy\").isNotNull(), \n",
    "         to_date(col(\"release_date\"), \"MM/dd/yyyy\")) \\\n",
    "    .when(to_date(col(\"release_date\"), \"yyyy-MM-dd\").isNotNull(), \n",
    "          to_date(col(\"release_date\"), \"yyyy-MM-dd\")) \\\n",
    "    .when(to_date(col(\"release_date\"), \"dd-MMM-yyyy\").isNotNull(), \n",
    "          to_date(col(\"release_date\"), \"dd-MMM-yyyy\")) \\\n",
    "    .otherwise(None)  \n",
    ")\n",
    "\n",
    "# Display updated schema\n",
    "print(\"\\nUpdated Schema:\")\n",
    "df.printSchema()\n",
    "\n",
    "# Show updated sample data\n",
    "print(\"\\nUpdated Sample Data:\")\n",
    "df.show(5, truncate=False)\n",
    "\n",
    "# Count rows and columns for verification\n",
    "row_count = df.count()\n",
    "column_count = len(df.columns)\n",
    "print(f\"\\nTotal Rows: {row_count}, Total Columns: {column_count}\")\n",
    "print(\"All columns in the DataFrame:\")\n",
    "print(df.columns)"
   ]
  },
  {
   "cell_type": "code",
   "execution_count": 0,
   "metadata": {
    "application/vnd.databricks.v1+cell": {
     "cellMetadata": {
      "byteLimit": 2048000,
      "rowLimit": 10000
     },
     "inputWidgets": {},
     "nuid": "6ad9d359-817e-483a-8838-14d4801dd1b7",
     "showTitle": false,
     "tableResultSettingsMap": {},
     "title": ""
    }
   },
   "outputs": [
    {
     "output_type": "stream",
     "name": "stdout",
     "output_type": "stream",
     "text": [
      "\nUpdated Schema with Cleaned Column Names:\nroot\n |-- id: integer (nullable = true)\n |-- title: string (nullable = true)\n |-- release_date: date (nullable = true)\n |-- vote_average: string (nullable = true)\n |-- popularity: double (nullable = true)\n |-- vote_count: double (nullable = true)\n |-- genre: string (nullable = true)\n |-- original_language: string (nullable = true)\n\n\nSample of updated data with Cleaned Column Names:\n+------+------------------------------+------------+------------+----------+----------+------------------------+-----------------+\n|id    |title                         |release_date|vote_average|popularity|vote_count|genre                   |original_language|\n+------+------------------------------+------------+------------+----------+----------+------------------------+-----------------+\n|49948 |Fantasia 2000                 |2000-01-01  |6.966       |14.509    |1264.0    |Animation, Family, Music|en               |\n|41245 |Peppermint Candy              |2000-01-01  |7.5         |11.201    |255.0     |Drama                   |ko               |\n|46462 |Nautilus                      |2000-01-01  |3           |6.597     |7.0       |Action, Science Fiction |en               |\n|477164|A Profile of In Which We Serve|2000-01-01  |0           |5.274     |0.0       |Documentary             |en               |\n|55178 |D-Day                         |2000-01-01  |5.7         |4.95      |23.0      |TV Movie, Crime, Drama  |da               |\n+------+------------------------------+------------+------------+----------+----------+------------------------+-----------------+\nonly showing top 5 rows\n\n\nTotal Rows: 104905, Total Columns: 8\n"
     ]
    }
   ],
   "source": [
    "\n",
    "# Function to clean column names\n",
    "def clean_column_names(df: DataFrame) -> DataFrame:\n",
    "    cleaned_columns = []\n",
    "    for col_name in df.columns:\n",
    "        # Convert to lowercase, replace spaces with underscores, and remove special characters\n",
    "        cleaned_name = re.sub(r'[^a-zA-Z0-9_]', '', col_name.lower().replace(' ', '_'))\n",
    "        cleaned_columns.append(cleaned_name)\n",
    "    \n",
    "    # Rename columns in the DataFrame\n",
    "    for old_name, new_name in zip(df.columns, cleaned_columns):\n",
    "        df = df.withColumnRenamed(old_name, new_name)\n",
    "\n",
    "    return df\n",
    "\n",
    "# Assuming df is your already loaded DataFrame\n",
    "df_cleaned = clean_column_names(df)\n",
    "\n",
    "# Print the updated schema to confirm changes\n",
    "print(\"\\nUpdated Schema with Cleaned Column Names:\")\n",
    "df_cleaned.printSchema()\n",
    "\n",
    "# Show a sample of the updated data\n",
    "print(\"\\nSample of updated data with Cleaned Column Names:\")\n",
    "df_cleaned.show(5, truncate=False)\n",
    "\n",
    "# Count rows and columns for verification\n",
    "row_count = df_cleaned.count()\n",
    "column_count = len(df_cleaned.columns)\n",
    "print(f\"\\nTotal Rows: {row_count}, Total Columns: {column_count}\")\n",
    "\n"
   ]
  },
  {
   "cell_type": "code",
   "execution_count": 0,
   "metadata": {
    "application/vnd.databricks.v1+cell": {
     "cellMetadata": {
      "byteLimit": 2048000,
      "rowLimit": 10000
     },
     "inputWidgets": {},
     "nuid": "1e5362de-6581-4d0f-8e60-b4621433bf47",
     "showTitle": false,
     "tableResultSettingsMap": {},
     "title": ""
    }
   },
   "outputs": [
    {
     "output_type": "stream",
     "name": "stdout",
     "output_type": "stream",
     "text": [
      "\nUpdated Schema after Trimming String Data:\nroot\n |-- id: integer (nullable = true)\n |-- title: string (nullable = true)\n |-- release_date: date (nullable = true)\n |-- vote_average: string (nullable = true)\n |-- popularity: double (nullable = true)\n |-- vote_count: double (nullable = true)\n |-- genre: string (nullable = true)\n |-- original_language: string (nullable = true)\n\n\nSample of updated data after Trimming String Data:\n+------+------------------------------+------------+------------+----------+----------+------------------------+-----------------+\n|id    |title                         |release_date|vote_average|popularity|vote_count|genre                   |original_language|\n+------+------------------------------+------------+------------+----------+----------+------------------------+-----------------+\n|49948 |Fantasia 2000                 |2000-01-01  |6.966       |14.509    |1264.0    |Animation, Family, Music|en               |\n|41245 |Peppermint Candy              |2000-01-01  |7.5         |11.201    |255.0     |Drama                   |ko               |\n|46462 |Nautilus                      |2000-01-01  |3           |6.597     |7.0       |Action, Science Fiction |en               |\n|477164|A Profile of In Which We Serve|2000-01-01  |0           |5.274     |0.0       |Documentary             |en               |\n|55178 |D-Day                         |2000-01-01  |5.7         |4.95      |23.0      |TV Movie, Crime, Drama  |da               |\n+------+------------------------------+------------+------------+----------+----------+------------------------+-----------------+\nonly showing top 5 rows\n\n\nAll trimmed columns in the DataFrame: ['id', 'title', 'release_date', 'vote_average', 'popularity', 'vote_count', 'genre', 'original_language']\n"
     ]
    }
   ],
   "source": [
    "# Function to trim string data in all string columns\n",
    "def trim_string_data(df: DataFrame) -> DataFrame:\n",
    "    # Get the list of string columns\n",
    "    string_columns = [field.name for field in df.schema.fields if isinstance(field.dataType, (StringType, VarcharType))]\n",
    "    \n",
    "    # Trim whitespace for each string column\n",
    "    for column in string_columns:\n",
    "        df = df.withColumn(column, trim(col(column)))\n",
    "    \n",
    "    return df\n",
    "\n",
    "# Assuming df is your already loaded DataFrame\n",
    "df_trimmed = trim_string_data(df)\n",
    "\n",
    "# Print the updated schema to confirm changes\n",
    "print(\"\\nUpdated Schema after Trimming String Data:\")\n",
    "df_trimmed.printSchema()\n",
    "\n",
    "# Show a sample of the updated data\n",
    "print(\"\\nSample of updated data after Trimming String Data:\")\n",
    "df_trimmed.show(5, truncate=False)\n",
    "\n",
    "# Count rows and columns for verification\n",
    "row_count = df_trimmed.count()\n",
    "column_count = len(df_trimmed.columns)\n",
    "\n",
    "print(\"\\nAll trimmed columns in the DataFrame:\",df_trimmed.columns)\n"
   ]
  },
  {
   "cell_type": "code",
   "execution_count": 0,
   "metadata": {
    "application/vnd.databricks.v1+cell": {
     "cellMetadata": {
      "byteLimit": 2048000,
      "rowLimit": 10000
     },
     "inputWidgets": {},
     "nuid": "2689be62-52f2-4860-aaef-8d7fd62c826f",
     "showTitle": false,
     "tableResultSettingsMap": {},
     "title": ""
    }
   },
   "outputs": [
    {
     "output_type": "stream",
     "name": "stdout",
     "output_type": "stream",
     "text": [
      "\nUpdated Schema after Converting Headers and Columns to Title Case:\nroot\n |-- Id: integer (nullable = true)\n |-- Title: string (nullable = true)\n |-- Release Date: string (nullable = true)\n |-- Vote Average: string (nullable = true)\n |-- Popularity: double (nullable = true)\n |-- Vote Count: double (nullable = true)\n |-- Genre: string (nullable = true)\n |-- Original Language: string (nullable = true)\n\n\nSample of updated data with Title Case Headers:\n+------+------------------------------+------------+------------+----------+----------+------------------------+-----------------+\n|Id    |Title                         |Release Date|Vote Average|Popularity|Vote Count|Genre                   |Original Language|\n+------+------------------------------+------------+------------+----------+----------+------------------------+-----------------+\n|49948 |Fantasia 2000                 |1/1/2000    |6.966       |14.509    |1264.0    |Animation, Family, Music|en               |\n|41245 |Peppermint Candy              |1/1/2000    |7.5         |11.201    |255.0     |Drama                   |ko               |\n|46462 |Nautilus                      |1/1/2000    |3           |6.597     |7.0       |Action, Science Fiction |en               |\n|477164|A Profile of In Which We Serve|1/1/2000    |0           |5.274     |0.0       |Documentary             |en               |\n|55178 |D-Day                         |1/1/2000    |5.7         |4.95      |23.0      |TV Movie, Crime, Drama  |da               |\n+------+------------------------------+------------+------------+----------+----------+------------------------+-----------------+\nonly showing top 5 rows\n\n['Id', 'Title', 'Release Date', 'Vote Average', 'Popularity', 'Vote Count', 'Genre', 'Original Language']\n"
     ]
    }
   ],
   "source": [
    "# Initialize Spark session\n",
    "spark = SparkSession.builder.appName(\"LoadCSV\").getOrCreate()\n",
    "\n",
    "# Load the CSV file into a DataFrame (replace this with your existing DataFrame)\n",
    "df = (\n",
    "    spark.read.format(\"csv\")\n",
    "    .option(\"header\", True)\n",
    "    .option(\"inferSchema\", True)\n",
    "    .option(\"nullValue\", \"null\")\n",
    "    .load(\"dbfs:/FileStore/tmdb_movie_data_2000_2010-1.csv\")\n",
    ")\n",
    "\n",
    "# Function to convert column headers to title case\n",
    "def convert_data_to_title_case(df):\n",
    "    cleaned_columns = []\n",
    "    for col_name in df.columns:\n",
    "        # Convert to title case using initcap and replace underscores with spaces for proper capitalization\n",
    "        cleaned_name = re.sub(r'[_]', ' ', col_name)  # Replace underscores with spaces\n",
    "        cleaned_name = cleaned_name.title()  # Convert to title case\n",
    "        cleaned_columns.append(cleaned_name)\n",
    "\n",
    "    # Rename columns in the DataFrame\n",
    "    for old_name, new_name in zip(df.columns, cleaned_columns):\n",
    "        df = df.withColumnRenamed(old_name, new_name)\n",
    "\n",
    "    return df\n",
    "\n",
    "# Convert column headers to title case\n",
    "df_with_title_case_headers_and_columns = convert_data_to_title_case(df)\n",
    "\n",
    "# Print the updated schema to confirm changes\n",
    "print(\"\\nUpdated Schema after Converting Headers and Columns to Title Case:\")\n",
    "df_with_title_case_headers_and_columns.printSchema()\n",
    "\n",
    "# Show a sample of the updated data\n",
    "print(\"\\nSample of updated data with Title Case Headers:\")\n",
    "df_with_title_case_headers_and_columns.show(5, truncate=False)\n",
    "\n",
    "# Count rows and columns for verification\n",
    "row_count = df_with_title_case_headers_and_columns.count()\n",
    "column_count = len(df_with_title_case_headers_and_columns.columns)\n",
    "\n",
    "print(df_with_title_case_headers_and_columns.columns)\n"
   ]
  },
  {
   "cell_type": "code",
   "execution_count": 0,
   "metadata": {
    "application/vnd.databricks.v1+cell": {
     "cellMetadata": {
      "byteLimit": 2048000,
      "rowLimit": 10000
     },
     "inputWidgets": {},
     "nuid": "d2a63899-126d-4b94-9159-e7488e0374ef",
     "showTitle": false,
     "tableResultSettingsMap": {},
     "title": ""
    }
   },
   "outputs": [
    {
     "output_type": "stream",
     "name": "stdout",
     "output_type": "stream",
     "text": [
      "Processing column: 'genre' | Default value: Unknown genre\n=== Replacement of empty values completed successfully ===\n\nUpdated DataFrame Schema:\nroot\n |-- id: integer (nullable = true)\n |-- title: string (nullable = true)\n |-- release_date: string (nullable = true)\n |-- vote_average: string (nullable = true)\n |-- popularity: double (nullable = true)\n |-- vote_count: double (nullable = true)\n |-- genre: string (nullable = true)\n |-- original_language: string (nullable = true)\n\n\nUpdated DataFrame Content:\n+------+--------------------------------+------------+------------+----------+----------+------------------------+-----------------+\n|id    |title                           |release_date|vote_average|popularity|vote_count|genre                   |original_language|\n+------+--------------------------------+------------+------------+----------+----------+------------------------+-----------------+\n|49948 |Fantasia 2000                   |1/1/2000    |6.966       |14.509    |1264.0    |Animation, Family, Music|en               |\n|41245 |Peppermint Candy                |1/1/2000    |7.5         |11.201    |255.0     |Drama                   |ko               |\n|46462 |Nautilus                        |1/1/2000    |3           |6.597     |7.0       |Action, Science Fiction |en               |\n|477164|A Profile of In Which We Serve  |1/1/2000    |0           |5.274     |0.0       |Documentary             |en               |\n|55178 |D-Day                           |1/1/2000    |5.7         |4.95      |23.0      |TV Movie, Crime, Drama  |da               |\n|20152 |Angels of the Universe          |1/1/2000    |6.9         |4.865     |29.0      |Drama                   |is               |\n|196139|Helter Skelter                  |1/1/2000    |2.6         |4.483     |8.0       |Horror                  |en               |\n|56721 |The Mummy Theme Park            |1/1/2000    |4.5         |4.369     |11.0      |Horror                  |en               |\n|218188|Table One                       |1/1/2000    |4           |4.038     |1.0       |Comedy                  |en               |\n|625522|Erotic Day Dream                |1/1/2000    |5           |3.921     |2.0       |Science Fiction         |en               |\n|289673|Cinderella                      |1/1/2000    |6.1         |3.914     |23.0      |Unknown genre           |en               |\n|343103|Bring Him Home                  |1/1/2000    |6.5         |3.812     |2.0       |Family, Drama           |en               |\n|71618 |After Sex                       |1/1/2000    |5.2         |3.727     |25.0      |Comedy, Drama, Romance  |en               |\n|273471|Last Stand                      |1/1/2000    |1           |3.721     |1.0       |Unknown genre           |en               |\n|287845|Lost in the Pershing Point Hotel|1/1/2000    |5.5         |3.637     |4.0       |Unknown genre           |en               |\n|453898|Snow/Woman                      |1/1/2000    |2           |3.602     |1.0       |Unknown genre           |ja               |\n|29931 |The Seduction of Maxine         |1/1/2000    |4           |3.601     |6.0       |Thriller                |en               |\n|283172|The Red Car                     |1/1/2000    |6.7         |3.494     |3.0       |Comedy, Drama           |pt               |\n|343785|Lost Paradise                   |1/1/2000    |0           |3.479     |0.0       |Drama                   |ru               |\n|264117|Once Upon a Time: Sergio Leone  |1/1/2000    |5.9         |3.39      |7.0       |Documentary             |en               |\n+------+--------------------------------+------------+------------+----------+----------+------------------------+-----------------+\nonly showing top 20 rows\n\n['id', 'title', 'release_date', 'vote_average', 'popularity', 'vote_count', 'genre', 'original_language']\n"
     ]
    }
   ],
   "source": [
    "\n",
    "# Function to replace empty values in the genre column\n",
    "def replace_empty_genre(df):\n",
    "    # Specify the column to process\n",
    "    column_name = \"genre\"\n",
    "    default_value = \"Unknown genre\"\n",
    "    \n",
    "    # Print processing information\n",
    "    print(f\"Processing column: '{column_name}' | Default value: {default_value}\")\n",
    "    \n",
    "    # Replace empty values in the 'genre' column with 'Unknown Genre'\n",
    "    df = df.withColumn(\n",
    "        column_name,\n",
    "        when(col(column_name).isNull() | (col(column_name) == \"\"), lit(default_value)).otherwise(col(column_name))\n",
    "    )\n",
    "    \n",
    "    print(\"=== Replacement of empty values completed successfully ===\")\n",
    "    return df\n",
    "\n",
    "# Replace empty values in the genre column\n",
    "df_with_replaced_genre = replace_empty_genre(df)\n",
    "\n",
    "# Print the updated schema to confirm changes\n",
    "print(\"\\nUpdated DataFrame Schema:\")\n",
    "df_with_replaced_genre.printSchema()\n",
    "\n",
    "# Show a sample of the updated data\n",
    "print(\"\\nUpdated DataFrame Content:\")\n",
    "df_with_replaced_genre.show(truncate=False)\n",
    "\n",
    "# Count rows and columns for verification\n",
    "row_count = df_with_replaced_genre.count()\n",
    "column_count = len(df_with_replaced_genre.columns)\n",
    "\n",
    "print(df_with_replaced_genre.columns)\n"
   ]
  },
  {
   "cell_type": "code",
   "execution_count": 0,
   "metadata": {
    "application/vnd.databricks.v1+cell": {
     "cellMetadata": {
      "byteLimit": 2048000,
      "rowLimit": 10000
     },
     "inputWidgets": {},
     "nuid": "f42513ed-6ff2-4ce2-a0d3-c1d7a32b78e7",
     "showTitle": false,
     "tableResultSettingsMap": {},
     "title": ""
    }
   },
   "outputs": [
    {
     "output_type": "stream",
     "name": "stdout",
     "output_type": "stream",
     "text": [
      "Total number of rows encoded: 6194\n\nSample of Encoded Rows:\n+-------+------------------------------------------------------------------+------------+------------+----------+----------+--------------------------------+-----------------+-------------------------------------------------------------+\n|id     |title                                                             |release_date|vote_average|popularity|vote_count|genre                           |original_language|title_temp                                                   |\n+-------+------------------------------------------------------------------+------------+------------+----------+----------+--------------------------------+-----------------+-------------------------------------------------------------+\n|1185068|Die Reichsautobahn - Strassen des Führers                         |1/1/2000    |0           |2.016     |0.0       |Documentary                     |de               |Die Reichsautobahn - Strassen des Fhrers                     |\n|575963 |Bosse Högberg - en film om kärlek, sjukdom och feta smällar       |1/1/2000    |9           |1.759     |2.0       |Documentary                     |sv               |Bosse Hgberg - en film om krlek, sjukdom och feta smllar     |\n|1137282|Le Fétichiste                                                     |1/1/2000    |0           |1.753     |0.0       |null                            |fr               |Le Ftichiste                                                 |\n|469395 |Era cabrón el viejo                                               |1/1/2000    |5           |1.744     |3.0       |Adventure, Action               |es               |Era cabrn el viejo                                           |\n|6167   |Das Glück ist eine Insel                                          |1/1/2000    |5           |1.602     |4.0       |TV Movie, Drama, Romance, Family|de               |Das Glck ist eine Insel                                      |\n|455182 |A Terceira Morte de Joaquim Bolívar                               |1/1/2000    |7           |1.312     |1.0       |Drama                           |en               |A Terceira Morte de Joaquim Bolvar                           |\n|540332 |Vuelven los albañiles                                             |1/1/2000    |3.2         |1.295     |4.0       |Comedy                          |en               |Vuelven los albailes                                         |\n|1171071|Básnik Pavol Ušák Oliva                                           |1/1/2000    |0           |1.238     |0.0       |Documentary                     |sk               |Bsnik Pavol Ušk Oliva                                        |\n|1061582|Rómulo Gallegos. Horizons and pathways                            |1/1/2000    |0           |1.233     |0.0       |null                            |es               |Rmulo Gallegos. Horizons and pathways                        |\n|1160689|Poussières d’étoile (S’endormir à la belle étoile) (Série Tactile)|1/1/2000    |0           |1.133     |0.0       |null                            |fr               |Poussires d’toile (S’endormir  la belle toile) (Srie Tactile)|\n|340046 |Ağaçlar Ayakta Ölür                                               |1/1/2000    |0           |1.124     |0.0       |Drama                           |tr               |Ağalar Ayakta lr                                             |\n|677769 |Que bonita familia: Papá 2000                                     |1/1/2000    |5           |1.075     |2.0       |null                            |en               |Que bonita familia: Pap 2000                                 |\n|1097240|Ünlü Yıldız                                                       |1/1/2000    |0           |1.049     |0.0       |Drama                           |tr               |nl Yıldız                                                    |\n|140754 |Les bodin's: l'inauguration de la salle des fêtes                 |1/1/2000    |3.7         |1.049     |6.0       |Comedy                          |fr               |Les bodin's: l'inauguration de la salle des ftes             |\n|1355468|Fernando Krapp m'a écrit cette lettre                             |1/1/2000    |0           |0.928     |0.0       |Comedy, Drama, TV Movie         |fr               |Fernando Krapp m'a crit cette lettre                         |\n|1026176|Vis-à-vis d'elle                                                  |1/1/2000    |0           |0.904     |0.0       |null                            |fr               |Vis--vis d'elle                                              |\n|1084114|L'Eté des hannetons                                               |1/1/2000    |0           |0.902     |0.0       |TV Movie, Drama                 |fr               |L'Et des hannetons                                           |\n|708453 |El cazador es un corazón solitario                                |1/1/2000    |0           |0.878     |0.0       |null                            |en               |El cazador es un corazn solitario                            |\n|797072 |Anos de Guerra - Guiné 1963-1974                                  |1/1/2000    |0           |0.822     |0.0       |Documentary, War                |pt               |Anos de Guerra - Guin 1963-1974                              |\n|512827 |O Cabeça de Copacabana                                            |1/1/2000    |0           |0.82      |0.0       |Comedy                          |pt               |O Cabea de Copacabana                                        |\n+-------+------------------------------------------------------------------+------------+------------+----------+----------+--------------------------------+-----------------+-------------------------------------------------------------+\nonly showing top 20 rows\n\n\nUpdated DataFrame Schema after Standardizing Encoding:\nroot\n |-- id: integer (nullable = true)\n |-- popularity: double (nullable = true)\n |-- vote_count: double (nullable = true)\n |-- title: string (nullable = true)\n |-- release_date: string (nullable = true)\n |-- vote_average: string (nullable = true)\n |-- genre: string (nullable = true)\n |-- original_language: string (nullable = true)\n\n\nSample of updated data after Standardizing Encoding:\n+------+----------+----------+------------------------------+------------+------------+------------------------+-----------------+\n|id    |popularity|vote_count|title                         |release_date|vote_average|genre                   |original_language|\n+------+----------+----------+------------------------------+------------+------------+------------------------+-----------------+\n|49948 |14.509    |1264.0    |Fantasia 2000                 |1/1/2000    |6.966       |Animation, Family, Music|en               |\n|41245 |11.201    |255.0     |Peppermint Candy              |1/1/2000    |7.5         |Drama                   |ko               |\n|46462 |6.597     |7.0       |Nautilus                      |1/1/2000    |3           |Action, Science Fiction |en               |\n|477164|5.274     |0.0       |A Profile of In Which We Serve|1/1/2000    |0           |Documentary             |en               |\n|55178 |4.95      |23.0      |D-Day                         |1/1/2000    |5.7         |TV Movie, Crime, Drama  |da               |\n+------+----------+----------+------------------------------+------------+------------+------------------------+-----------------+\nonly showing top 5 rows\n\n['id', 'popularity', 'vote_count', 'title', 'release_date', 'vote_average', 'genre', 'original_language']\n"
     ]
    }
   ],
   "source": [
    "# Function to standardize encoding for all string columns\n",
    "def standardize_encoding(df):\n",
    "    # Get the list of string columns\n",
    "    string_columns = [field.name for field in df.schema.fields if isinstance(field.dataType, StringType)]\n",
    "    \n",
    "    total_encoded_rows = 0\n",
    "    encoded_rows = []  # List to store rows that were encoded\n",
    "\n",
    "    # Process each string column\n",
    "    for column in string_columns:\n",
    "        # Create a temporary column for comparison\n",
    "        temp_column = f\"{column}_temp\"\n",
    "        \n",
    "        # Encode the column and remove non-printable characters\n",
    "        df = df.withColumn(\n",
    "            temp_column,\n",
    "            regexp_replace(\n",
    "                encode(when(col(column).isNotNull(), col(column)).otherwise(lit(\"\")), \"UTF-8\").cast(\"string\"),\n",
    "                r'[\\x00-\\x1F\\x7F-\\xFF]', ''\n",
    "            )\n",
    "        )\n",
    "        \n",
    "        # Identify changed rows and collect them\n",
    "        changed_rows_df = df.filter(col(column) != col(temp_column))\n",
    "        total_encoded_rows += changed_rows_df.count()\n",
    "        \n",
    "        # Store the changed rows in a list for later display\n",
    "        encoded_rows.append(changed_rows_df)\n",
    "\n",
    "        # Replace original column with cleaned version\n",
    "        df = df.drop(column).withColumnRenamed(temp_column, column)\n",
    "\n",
    "    print(f\"Total number of rows encoded: {total_encoded_rows}\")\n",
    "    \n",
    "    # Combine all encoded rows into a single DataFrame if there are any changes\n",
    "    if total_encoded_rows > 0:\n",
    "        encoded_rows_df = encoded_rows[0]  # Start with the first DataFrame\n",
    "        for additional_df in encoded_rows[1:]:\n",
    "            encoded_rows_df = encoded_rows_df.union(additional_df)  # Union all changed DataFrames\n",
    "        \n",
    "        print(\"\\nSample of Encoded Rows:\")\n",
    "        encoded_rows_df.show(truncate=False)\n",
    "\n",
    "    return df\n",
    "\n",
    "# Standardize encoding for the DataFrame\n",
    "df_encoded = standardize_encoding(df)\n",
    "\n",
    "# Print the updated schema to confirm changes\n",
    "print(\"\\nUpdated DataFrame Schema after Standardizing Encoding:\")\n",
    "df_encoded.printSchema()\n",
    "\n",
    "# Show a sample of the updated data\n",
    "print(\"\\nSample of updated data after Standardizing Encoding:\")\n",
    "df_encoded.show(5, truncate=False)\n",
    "\n",
    "# Count rows and columns for verification\n",
    "row_count = df_encoded.count()\n",
    "column_count = len(df_encoded.columns)\n",
    "\n",
    "print(df_encoded.columns)\n"
   ]
  },
  {
   "cell_type": "code",
   "execution_count": 0,
   "metadata": {
    "application/vnd.databricks.v1+cell": {
     "cellMetadata": {
      "byteLimit": 2048000,
      "rowLimit": 10000
     },
     "inputWidgets": {},
     "nuid": "bf029870-acd6-4f8d-95ef-6901328eb68d",
     "showTitle": false,
     "tableResultSettingsMap": {},
     "title": ""
    }
   },
   "outputs": [
    {
     "output_type": "stream",
     "name": "stdout",
     "output_type": "stream",
     "text": [
      "Total number of duplicate rows: 0\n\nNo duplicate rows found.\n"
     ]
    }
   ],
   "source": [
    "\n",
    "# Find duplicate rows\n",
    "duplicate_rows_df = df.groupBy(df.columns).count().filter(col(\"count\") > 1)\n",
    "\n",
    "# Count total number of duplicate rows\n",
    "total_duplicate_rows = duplicate_rows_df.count()\n",
    "\n",
    "# Print the total number of duplicate rows\n",
    "print(f\"Total number of duplicate rows: {total_duplicate_rows}\")\n",
    "\n",
    "# Optionally, show the duplicate rows and their counts\n",
    "if total_duplicate_rows > 0:\n",
    "    print(\"\\nDuplicate Rows:\")\n",
    "    duplicate_rows_df.show(truncate=False)\n",
    "    \n",
    "    # Drop duplicate rows from the original DataFrame\n",
    "    df = df.dropDuplicates()\n",
    "    print(\"\\nDuplicate rows have been dropped.\")\n",
    "else:\n",
    "    print(\"\\nNo duplicate rows found.\")\n",
    "\n",
    "\n",
    "\n",
    "\n"
   ]
  },
  {
   "cell_type": "code",
   "execution_count": 0,
   "metadata": {
    "application/vnd.databricks.v1+cell": {
     "cellMetadata": {
      "byteLimit": 2048000,
      "rowLimit": 10000
     },
     "inputWidgets": {},
     "nuid": "f3562372-f3c2-4e54-b3b4-aaffd26184a0",
     "showTitle": false,
     "tableResultSettingsMap": {},
     "title": ""
    }
   },
   "outputs": [
    {
     "output_type": "stream",
     "name": "stdout",
     "output_type": "stream",
     "text": [
      "\nOriginal Schema:\nroot\n |-- id: integer (nullable = true)\n |-- title: string (nullable = true)\n |-- release_date: string (nullable = true)\n |-- vote_average: string (nullable = true)\n |-- popularity: double (nullable = true)\n |-- vote_count: double (nullable = true)\n |-- genre: string (nullable = true)\n |-- original_language: string (nullable = true)\n\n\nSample Data:\n+------+------------------------------+------------+------------+----------+----------+------------------------+-----------------+\n|id    |title                         |release_date|vote_average|popularity|vote_count|genre                   |original_language|\n+------+------------------------------+------------+------------+----------+----------+------------------------+-----------------+\n|49948 |Fantasia 2000                 |1/1/2000    |6.966       |14.509    |1264.0    |Animation, Family, Music|en               |\n|41245 |Peppermint Candy              |1/1/2000    |7.5         |11.201    |255.0     |Drama                   |ko               |\n|46462 |Nautilus                      |1/1/2000    |3           |6.597     |7.0       |Action, Science Fiction |en               |\n|477164|A Profile of In Which We Serve|1/1/2000    |0           |5.274     |0.0       |Documentary             |en               |\n|55178 |D-Day                         |1/1/2000    |5.7         |4.95      |23.0      |TV Movie, Crime, Drama  |da               |\n+------+------------------------------+------------+------------+----------+----------+------------------------+-----------------+\nonly showing top 5 rows\n\nTotal number of duplicate rows: 0\n\nNo duplicate rows found.\nProcessing column: 'genre' | Default value: Unknown genre\n=== Replacement of empty values completed successfully ===\nTotal number of rows encoded: 6194\n\nSample of Encoded Rows:\n+-------+------------------------------------------------------------------+------------+------------+----------+----------+--------------------------------+-----------------+-------------------------------------------------------------+\n|id     |title                                                             |release_date|vote_average|popularity|vote_count|genre                           |original_language|title_temp                                                   |\n+-------+------------------------------------------------------------------+------------+------------+----------+----------+--------------------------------+-----------------+-------------------------------------------------------------+\n|1185068|Die Reichsautobahn - Strassen des Führers                         |1/1/2000    |0           |2.016     |0.0       |Documentary                     |de               |Die Reichsautobahn - Strassen des Fhrers                     |\n|575963 |Bosse Högberg - en film om kärlek, sjukdom och feta smällar       |1/1/2000    |9           |1.759     |2.0       |Documentary                     |sv               |Bosse Hgberg - en film om krlek, sjukdom och feta smllar     |\n|1137282|Le Fétichiste                                                     |1/1/2000    |0           |1.753     |0.0       |Unknown genre                   |fr               |Le Ftichiste                                                 |\n|469395 |Era cabrón el viejo                                               |1/1/2000    |5           |1.744     |3.0       |Adventure, Action               |es               |Era cabrn el viejo                                           |\n|6167   |Das Glück ist eine Insel                                          |1/1/2000    |5           |1.602     |4.0       |TV Movie, Drama, Romance, Family|de               |Das Glck ist eine Insel                                      |\n|455182 |A Terceira Morte de Joaquim Bolívar                               |1/1/2000    |7           |1.312     |1.0       |Drama                           |en               |A Terceira Morte de Joaquim Bolvar                           |\n|540332 |Vuelven los albañiles                                             |1/1/2000    |3.2         |1.295     |4.0       |Comedy                          |en               |Vuelven los albailes                                         |\n|1171071|Básnik Pavol Ušák Oliva                                           |1/1/2000    |0           |1.238     |0.0       |Documentary                     |sk               |Bsnik Pavol Ušk Oliva                                        |\n|1061582|Rómulo Gallegos. Horizons and pathways                            |1/1/2000    |0           |1.233     |0.0       |Unknown genre                   |es               |Rmulo Gallegos. Horizons and pathways                        |\n|1160689|Poussières d’étoile (S’endormir à la belle étoile) (Série Tactile)|1/1/2000    |0           |1.133     |0.0       |Unknown genre                   |fr               |Poussires d’toile (S’endormir  la belle toile) (Srie Tactile)|\n|340046 |Ağaçlar Ayakta Ölür                                               |1/1/2000    |0           |1.124     |0.0       |Drama                           |tr               |Ağalar Ayakta lr                                             |\n|677769 |Que bonita familia: Papá 2000                                     |1/1/2000    |5           |1.075     |2.0       |Unknown genre                   |en               |Que bonita familia: Pap 2000                                 |\n|1097240|Ünlü Yıldız                                                       |1/1/2000    |0           |1.049     |0.0       |Drama                           |tr               |nl Yıldız                                                    |\n|140754 |Les bodin's: l'inauguration de la salle des fêtes                 |1/1/2000    |3.7         |1.049     |6.0       |Comedy                          |fr               |Les bodin's: l'inauguration de la salle des ftes             |\n|1355468|Fernando Krapp m'a écrit cette lettre                             |1/1/2000    |0           |0.928     |0.0       |Comedy, Drama, TV Movie         |fr               |Fernando Krapp m'a crit cette lettre                         |\n|1026176|Vis-à-vis d'elle                                                  |1/1/2000    |0           |0.904     |0.0       |Unknown genre                   |fr               |Vis--vis d'elle                                              |\n|1084114|L'Eté des hannetons                                               |1/1/2000    |0           |0.902     |0.0       |TV Movie, Drama                 |fr               |L'Et des hannetons                                           |\n|708453 |El cazador es un corazón solitario                                |1/1/2000    |0           |0.878     |0.0       |Unknown genre                   |en               |El cazador es un corazn solitario                            |\n|797072 |Anos de Guerra - Guiné 1963-1974                                  |1/1/2000    |0           |0.822     |0.0       |Documentary, War                |pt               |Anos de Guerra - Guin 1963-1974                              |\n|512827 |O Cabeça de Copacabana                                            |1/1/2000    |0           |0.82      |0.0       |Comedy                          |pt               |O Cabea de Copacabana                                        |\n+-------+------------------------------------------------------------------+------------+------------+----------+----------+--------------------------------+-----------------+-------------------------------------------------------------+\nonly showing top 20 rows\n\n\nUpdated DataFrame Schema after Standardizing:\nroot\n |-- id: integer (nullable = true)\n |-- popularity: double (nullable = true)\n |-- vote_count: double (nullable = true)\n |-- title: string (nullable = true)\n |-- release_date: date (nullable = true)\n |-- vote_average: string (nullable = true)\n |-- genre: string (nullable = true)\n |-- original_language: string (nullable = true)\n |-- Performance_Analysis: string (nullable = false)\n\n\nSample of Updated Data after Standardizing:\n+------+----------+----------+-------------------------------------------------------------------+------------+------------+-------------------------------------------+-----------------+--------------------+\n|id    |popularity|vote_count|title                                                              |release_date|vote_average|genre                                      |original_language|Performance_Analysis|\n+------+----------+----------+-------------------------------------------------------------------+------------+------------+-------------------------------------------+-----------------+--------------------+\n|49948 |14.509    |1264.0    |Fantasia 2000                                                      |2000-01-01  |6.966       |Animation, Family, Music                   |en               |Hit                 |\n|41245 |11.201    |255.0     |Peppermint Candy                                                   |2000-01-01  |7.5         |Drama                                      |ko               |Hit                 |\n|46462 |6.597     |7.0       |Nautilus                                                           |2000-01-01  |3           |Action, Science Fiction                    |en               |Hit                 |\n|477164|5.274     |0.0       |A Profile of In Which We Serve                                     |2000-01-01  |0           |Documentary                                |en               |Hit                 |\n|55178 |4.95      |23.0      |D-Day                                                              |2000-01-01  |5.7         |TV Movie, Crime, Drama                     |da               |Hit                 |\n|20152 |4.865     |29.0      |Angels of the Universe                                             |2000-01-01  |6.9         |Drama                                      |is               |Hit                 |\n|196139|4.483     |8.0       |Helter Skelter                                                     |2000-01-01  |2.6         |Horror                                     |en               |Hit                 |\n|56721 |4.369     |11.0      |The Mummy Theme Park                                               |2000-01-01  |4.5         |Horror                                     |en               |Hit                 |\n|218188|4.038     |1.0       |Table One                                                          |2000-01-01  |4           |Comedy                                     |en               |Hit                 |\n|625522|3.921     |2.0       |Erotic Day Dream                                                   |2000-01-01  |5           |Science Fiction                            |en               |Hit                 |\n|289673|3.914     |23.0      |Cinderella                                                         |2000-01-01  |6.1         |Unknown genre                              |en               |Hit                 |\n|343103|3.812     |2.0       |Bring Him Home                                                     |2000-01-01  |6.5         |Family, Drama                              |en               |Hit                 |\n|71618 |3.727     |25.0      |After Sex                                                          |2000-01-01  |5.2         |Comedy, Drama, Romance                     |en               |Hit                 |\n|273471|3.721     |1.0       |Last Stand                                                         |2000-01-01  |1           |Unknown genre                              |en               |Hit                 |\n|287845|3.637     |4.0       |Lost in the Pershing Point Hotel                                   |2000-01-01  |5.5         |Unknown genre                              |en               |Hit                 |\n|453898|3.602     |1.0       |Snow/Woman                                                         |2000-01-01  |2           |Unknown genre                              |ja               |Hit                 |\n|29931 |3.601     |6.0       |The Seduction of Maxine                                            |2000-01-01  |4           |Thriller                                   |en               |Hit                 |\n|283172|3.494     |3.0       |The Red Car                                                        |2000-01-01  |6.7         |Comedy, Drama                              |pt               |Hit                 |\n|343785|3.479     |0.0       |Lost Paradise                                                      |2000-01-01  |0           |Drama                                      |ru               |Hit                 |\n|264117|3.39      |7.0       |Once Upon a Time: Sergio Leone                                     |2000-01-01  |5.9         |Documentary                                |en               |Hit                 |\n|524537|3.237     |0.0       |Cursed Part 3                                                      |2000-01-01  |0           |Unknown genre                              |en               |Hit                 |\n|468017|3.205     |0.0       |Obstacles                                                          |2000-01-01  |0           |Action, Drama, Comedy, Crime               |en               |Hit                 |\n|158323|3.001     |2.0       |Shutterspeed                                                       |2000-01-01  |4           |TV Movie                                   |en               |Hit                 |\n|452053|2.862     |2.0       |Indecent Disclosure                                                |2000-01-01  |5.5         |Drama                                      |en               |Average             |\n|338756|2.857     |5.0       |Inside 'The Spy Who Loved Me'                                      |2000-01-01  |7.4         |Documentary                                |en               |Average             |\n|581617|2.773     |0.0       |Hollywood at Your Feet: The Story of the Chinese Theatre Footprints|2000-01-01  |0           |Documentary                                |en               |Average             |\n|344223|2.738     |0.0       |100 Cameras: Capturing Lars von Trier's Vision                     |2000-01-01  |0           |Documentary                                |en               |Average             |\n|194150|2.621     |2.0       |Home: The Horror Story                                             |2000-01-01  |2.5         |Comedy, Horror                             |en               |Average             |\n|66131 |2.608     |11.0      |A Constant Forge                                                   |2000-01-01  |6.5         |Documentary                                |en               |Average             |\n|197817|2.549     |1.0       |Kog-Head and Meatus                                                |2000-01-01  |8           |Animation, Drama, Comedy, Horror, Adventure|en               |Average             |\n|635760|2.538     |2.0       |El Carretonero                                                     |2000-01-01  |5           |Action                                     |es               |Average             |\n|277439|2.498     |4.0       |The Big Finish                                                     |2000-01-01  |7.5         |Horror                                     |en               |Average             |\n|167880|2.472     |3.0       |Ben & Maria - Liebe auf den zweiten Blick                          |2000-01-01  |4.3         |Romance                                    |de               |Average             |\n|28085 |2.46      |7.0       |Blind Target                                                       |2000-01-01  |3.3         |Thriller, Drama                            |en               |Average             |\n|41738 |2.437     |18.0      |After Alice                                                        |2000-01-01  |5.4         |Thriller                                   |en               |Average             |\n|274380|2.429     |5.0       |The Sandwich                                                       |2000-01-01  |8.2         |Romance, Comedy                            |pt               |Average             |\n|623007|2.422     |0.0       |Vodka: A Russian Fairytale                                         |2000-01-01  |0           |Documentary                                |en               |Average             |\n|203831|2.422     |0.0       |From a Whisper to a Scream: The Living History of Irish Music      |2000-01-01  |0           |Documentary, Music                         |en               |Average             |\n|96716 |2.375     |27.0      |The Bumblebee Flies Anyway                                         |2000-01-01  |6.6         |Drama, Romance                             |en               |Average             |\n|397128|2.362     |3.0       |Millennium Stars                                                   |2000-01-01  |4.5         |Comedy, Drama, Music, Romance              |ml               |Average             |\n|362807|2.362     |5.0       |Paranoid                                                           |2000-01-01  |2.8         |Horror, Thriller                           |en               |Average             |\n|65397 |2.304     |6.0       |Nightfall                                                          |2000-01-01  |4           |Drama, Science Fiction, Thriller           |en               |Average             |\n|464511|2.293     |1.0       |Pursuit of a Killer                                                |2000-01-01  |5           |Action, Crime                              |cn               |Average             |\n|45850 |2.285     |2.0       |Hollywood Sins                                                     |2000-01-01  |3           |Drama                                      |en               |Average             |\n|276456|2.278     |1.0       |Satan in the Suburbs                                               |2000-01-01  |5           |TV Movie, Documentary, Crime               |en               |Average             |\n|355212|2.272     |1.0       |Egypt Decoded                                                      |2000-01-01  |7           |Documentary, History                       |en               |Average             |\n|622580|2.264     |1.0       |Metropolitan Monologues                                            |2000-01-01  |10          |Unknown genre                              |en               |Average             |\n|81953 |2.251     |0.0       |Trial By Fire: A North of 60 Mystery                               |2000-01-01  |0           |Drama                                      |en               |Average             |\n|29763 |2.248     |4.0       |Catacombs                                                          |2000-01-01  |2.5         |Horror                                     |en               |Average             |\n|274303|2.243     |0.0       |A Regular Frankie Fan                                              |2000-01-01  |0           |Unknown genre                              |en               |Average             |\n+------+----------+----------+-------------------------------------------------------------------+------------+------------+-------------------------------------------+-----------------+--------------------+\nonly showing top 50 rows\n\n\nTotal Rows: 104905, Total Columns: 9\n"
     ]
    }
   ],
   "source": [
    "from pyspark.sql import SparkSession\n",
    "from pyspark.sql.functions import col, to_date, when\n",
    "\n",
    "# Initialize Spark session\n",
    "spark = SparkSession.builder.appName(\"LoadCSV\").getOrCreate()\n",
    "\n",
    "# Set legacy time parser policy\n",
    "spark.conf.set(\"spark.sql.legacy.timeParserPolicy\", \"LEGACY\")\n",
    "\n",
    "# Load the CSV file into a DataFrame named df\n",
    "df = (\n",
    "    spark.read.format(\"csv\")  \n",
    "    .option(\"header\", True)  \n",
    "    .option(\"inferSchema\", True)  \n",
    "    .option(\"nullValue\", \"null\")  \n",
    "    .load(\"dbfs:/FileStore/tmdb_API__movies_data_2000_2010.csv\")  \n",
    ")\n",
    "\n",
    "# Display original schema\n",
    "print(\"\\nOriginal Schema:\")\n",
    "df.printSchema()\n",
    "\n",
    "# Show a sample of data\n",
    "print(\"\\nSample Data:\")\n",
    "df.show(5, truncate=False)\n",
    "\n",
    "def standardize_dataframe(df):\n",
    "    \"\"\"\n",
    "    Standardizes the DataFrame by cleaning column names, dropping duplicates,\n",
    "    trimming string data, and converting specified date columns to date format.\n",
    "    \n",
    "    Args:\n",
    "        df (DataFrame): The input DataFrame.\n",
    "\n",
    "    Returns:\n",
    "        DataFrame: The standardized DataFrame.\n",
    "    \"\"\"\n",
    "    try:\n",
    "        # Clean the column names (assuming clean_column_names is defined)\n",
    "        df = clean_column_names(df)\n",
    "\n",
    "        # Drop duplicates\n",
    "        duplicate_rows_df = df.groupBy(df.columns).count().filter(col(\"count\") > 1)\n",
    "        \n",
    "        total_duplicate_rows = duplicate_rows_df.count()\n",
    "        print(f\"Total number of duplicate rows: {total_duplicate_rows}\")\n",
    "\n",
    "        if total_duplicate_rows > 0:\n",
    "            print(\"\\nDuplicate Rows:\")\n",
    "            duplicate_rows_df.show(truncate=False)\n",
    "            df = df.dropDuplicates()\n",
    "            print(\"\\nDuplicate rows have been dropped.\")\n",
    "        else:\n",
    "            print(\"\\nNo duplicate rows found.\")\n",
    "\n",
    "        \n",
    "    \n",
    "\n",
    "        # Trim string columns data (assuming trim_string_data is defined)\n",
    "        df = trim_string_data(df)\n",
    "\n",
    "        # Replace empty values in the genre column (assuming replace_empty_genre is defined)\n",
    "        df = replace_empty_genre(df)\n",
    "\n",
    "        # Standardize the encoding (assuming standardize_encoding is defined)\n",
    "        df = standardize_encoding(df)\n",
    "\n",
    "        # Convert 'release_date' column from string to date format in a single line\n",
    "        df = df.withColumn(\n",
    "            \"release_date\",\n",
    "            when(to_date(col(\"release_date\"), \"MM/dd/yyyy\").isNotNull(), \n",
    "                 to_date(col(\"release_date\"), \"MM/dd/yyyy\"))\n",
    "            .when(to_date(col(\"release_date\"), \"yyyy-MM-dd\").isNotNull(), \n",
    "                  to_date(col(\"release_date\"), \"yyyy-MM-dd\"))\n",
    "            .when(to_date(col(\"release_date\"), \"dd-MMM-yyyy\").isNotNull(), \n",
    "                  to_date(col(\"release_date\"), \"dd-MMM-yyyy\"))\n",
    "            .otherwise(None)  # Assign None for invalid formats\n",
    "        )\n",
    "\n",
    "        # Add Performance Analysis based on popularity and vote_count\n",
    "        df = df.withColumn(\n",
    "            \"Performance_Analysis\",\n",
    "            when((col(\"popularity\") >= 0) & (col(\"popularity\") <= 0.1), \"Disaster\")\n",
    "            .when((col(\"popularity\") > 0.1) & (col(\"popularity\") <= 1.0), \"Flop\")\n",
    "            .when((col(\"popularity\") > 1.0) & (col(\"popularity\") <= 3.0), \"Average\")\n",
    "            .when((col(\"popularity\") > 3.0) & (col(\"popularity\") <= 50), \"Hit\")\n",
    "            .when((col(\"popularity\") > 50) & (col(\"popularity\") <= 100), \"Superhit/Blockbuster\")\n",
    "            .when((col(\"popularity\") > 100) & (col(\"popularity\") <= 437.087), \"Culthit\")\n",
    "            .otherwise(\"Unknown\")\n",
    "        )\n",
    "\n",
    "        return df\n",
    "    \n",
    "    except Exception as e:\n",
    "        print(f\"An error occurred during standardization: {e}\")\n",
    "        return None  # Return None if an error occurs\n",
    "\n",
    "# Standardize the DataFrame\n",
    "df_standardized = standardize_dataframe(df)\n",
    "\n",
    "# Check if `df_standardized` is None before proceeding\n",
    "if df_standardized is not None:\n",
    "    # Print the updated schema to confirm changes\n",
    "    print(\"\\nUpdated DataFrame Schema after Standardizing:\")\n",
    "    df_standardized.printSchema()\n",
    "\n",
    "    # Show a sample of the updated data\n",
    "    print(\"\\nSample of Updated Data after Standardizing:\")\n",
    "    df_standardized.show(50, truncate=False)\n",
    "\n",
    "    # Count rows and columns for verification\n",
    "    row_count = df_standardized.count()\n",
    "    column_count = len(df_standardized.columns)\n",
    "    \n",
    "    print(f\"\\nTotal Rows: {row_count}, Total Columns: {column_count}\")\n",
    "else:\n",
    "    print(\"Data standardization failed; no valid DataFrame to display.\")\n"
   ]
  },
  {
   "cell_type": "code",
   "execution_count": 0,
   "metadata": {
    "application/vnd.databricks.v1+cell": {
     "cellMetadata": {
      "byteLimit": 2048000,
      "rowLimit": 10000
     },
     "inputWidgets": {},
     "nuid": "e0ead974-ce29-4faa-8d7d-ac786afc01f2",
     "showTitle": false,
     "tableResultSettingsMap": {},
     "title": ""
    }
   },
   "outputs": [
    {
     "output_type": "stream",
     "name": "stdout",
     "output_type": "stream",
     "text": [
      "\nTemporary view 'silver_layer' created successfully.\n"
     ]
    }
   ],
   "source": [
    "# Create or replace temporary view with standardized DataFrame\n",
    "df_standardized.createOrReplaceTempView(\"silver_layer\")\n",
    "print(\"\\nTemporary view 'silver_layer' created successfully.\")\n"
   ]
  },
  {
   "cell_type": "code",
   "execution_count": 0,
   "metadata": {
    "application/vnd.databricks.v1+cell": {
     "cellMetadata": {
      "byteLimit": 2048000,
      "rowLimit": 10000
     },
     "inputWidgets": {},
     "nuid": "23a0892c-2033-4bdf-93b7-8bc77f8385f5",
     "showTitle": false,
     "tableResultSettingsMap": {},
     "title": ""
    }
   },
   "outputs": [
    {
     "output_type": "stream",
     "name": "stdout",
     "output_type": "stream",
     "text": [
      "Total number of duplicate rows: 0\n\nNo duplicate rows found.\nProcessing column: 'genre' | Default value: Unknown genre\n=== Replacement of empty values completed successfully ===\nTotal number of rows encoded: 6194\n\nSample of Encoded Rows:\n+-------+------------------------------------------------------------------+------------+------------+----------+----------+--------------------------------+-----------------+-------------------------------------------------------------+\n|id     |title                                                             |release_date|vote_average|popularity|vote_count|genre                           |original_language|title_temp                                                   |\n+-------+------------------------------------------------------------------+------------+------------+----------+----------+--------------------------------+-----------------+-------------------------------------------------------------+\n|1185068|Die Reichsautobahn - Strassen des Führers                         |1/1/2000    |0           |2.016     |0.0       |Documentary                     |de               |Die Reichsautobahn - Strassen des Fhrers                     |\n|575963 |Bosse Högberg - en film om kärlek, sjukdom och feta smällar       |1/1/2000    |9           |1.759     |2.0       |Documentary                     |sv               |Bosse Hgberg - en film om krlek, sjukdom och feta smllar     |\n|1137282|Le Fétichiste                                                     |1/1/2000    |0           |1.753     |0.0       |Unknown genre                   |fr               |Le Ftichiste                                                 |\n|469395 |Era cabrón el viejo                                               |1/1/2000    |5           |1.744     |3.0       |Adventure, Action               |es               |Era cabrn el viejo                                           |\n|6167   |Das Glück ist eine Insel                                          |1/1/2000    |5           |1.602     |4.0       |TV Movie, Drama, Romance, Family|de               |Das Glck ist eine Insel                                      |\n|455182 |A Terceira Morte de Joaquim Bolívar                               |1/1/2000    |7           |1.312     |1.0       |Drama                           |en               |A Terceira Morte de Joaquim Bolvar                           |\n|540332 |Vuelven los albañiles                                             |1/1/2000    |3.2         |1.295     |4.0       |Comedy                          |en               |Vuelven los albailes                                         |\n|1171071|Básnik Pavol Ušák Oliva                                           |1/1/2000    |0           |1.238     |0.0       |Documentary                     |sk               |Bsnik Pavol Ušk Oliva                                        |\n|1061582|Rómulo Gallegos. Horizons and pathways                            |1/1/2000    |0           |1.233     |0.0       |Unknown genre                   |es               |Rmulo Gallegos. Horizons and pathways                        |\n|1160689|Poussières d’étoile (S’endormir à la belle étoile) (Série Tactile)|1/1/2000    |0           |1.133     |0.0       |Unknown genre                   |fr               |Poussires d’toile (S’endormir  la belle toile) (Srie Tactile)|\n|340046 |Ağaçlar Ayakta Ölür                                               |1/1/2000    |0           |1.124     |0.0       |Drama                           |tr               |Ağalar Ayakta lr                                             |\n|677769 |Que bonita familia: Papá 2000                                     |1/1/2000    |5           |1.075     |2.0       |Unknown genre                   |en               |Que bonita familia: Pap 2000                                 |\n|1097240|Ünlü Yıldız                                                       |1/1/2000    |0           |1.049     |0.0       |Drama                           |tr               |nl Yıldız                                                    |\n|140754 |Les bodin's: l'inauguration de la salle des fêtes                 |1/1/2000    |3.7         |1.049     |6.0       |Comedy                          |fr               |Les bodin's: l'inauguration de la salle des ftes             |\n|1355468|Fernando Krapp m'a écrit cette lettre                             |1/1/2000    |0           |0.928     |0.0       |Comedy, Drama, TV Movie         |fr               |Fernando Krapp m'a crit cette lettre                         |\n|1026176|Vis-à-vis d'elle                                                  |1/1/2000    |0           |0.904     |0.0       |Unknown genre                   |fr               |Vis--vis d'elle                                              |\n|1084114|L'Eté des hannetons                                               |1/1/2000    |0           |0.902     |0.0       |TV Movie, Drama                 |fr               |L'Et des hannetons                                           |\n|708453 |El cazador es un corazón solitario                                |1/1/2000    |0           |0.878     |0.0       |Unknown genre                   |en               |El cazador es un corazn solitario                            |\n|797072 |Anos de Guerra - Guiné 1963-1974                                  |1/1/2000    |0           |0.822     |0.0       |Documentary, War                |pt               |Anos de Guerra - Guin 1963-1974                              |\n|512827 |O Cabeça de Copacabana                                            |1/1/2000    |0           |0.82      |0.0       |Comedy                          |pt               |O Cabea de Copacabana                                        |\n+-------+------------------------------------------------------------------+------------+------------+----------+----------+--------------------------------+-----------------+-------------------------------------------------------------+\nonly showing top 20 rows\n\nNumber of columns in the standardized DataFrame: 9\nNumber of rows : 104905\n\nFirst 10 rows of df_silver:\n+------+----------+----------+-------------------------------------------------------------------+------------+------------+-------------------------------------------+-----------------+--------------------+\n|id    |popularity|vote_count|title                                                              |release_date|vote_average|genre                                      |original_language|Performance_Analysis|\n+------+----------+----------+-------------------------------------------------------------------+------------+------------+-------------------------------------------+-----------------+--------------------+\n|49948 |14.509    |1264.0    |Fantasia 2000                                                      |2000-01-01  |6.966       |Animation, Family, Music                   |en               |Hit                 |\n|41245 |11.201    |255.0     |Peppermint Candy                                                   |2000-01-01  |7.5         |Drama                                      |ko               |Hit                 |\n|46462 |6.597     |7.0       |Nautilus                                                           |2000-01-01  |3           |Action, Science Fiction                    |en               |Hit                 |\n|477164|5.274     |0.0       |A Profile of In Which We Serve                                     |2000-01-01  |0           |Documentary                                |en               |Hit                 |\n|55178 |4.95      |23.0      |D-Day                                                              |2000-01-01  |5.7         |TV Movie, Crime, Drama                     |da               |Hit                 |\n|20152 |4.865     |29.0      |Angels of the Universe                                             |2000-01-01  |6.9         |Drama                                      |is               |Hit                 |\n|196139|4.483     |8.0       |Helter Skelter                                                     |2000-01-01  |2.6         |Horror                                     |en               |Hit                 |\n|56721 |4.369     |11.0      |The Mummy Theme Park                                               |2000-01-01  |4.5         |Horror                                     |en               |Hit                 |\n|218188|4.038     |1.0       |Table One                                                          |2000-01-01  |4           |Comedy                                     |en               |Hit                 |\n|625522|3.921     |2.0       |Erotic Day Dream                                                   |2000-01-01  |5           |Science Fiction                            |en               |Hit                 |\n|289673|3.914     |23.0      |Cinderella                                                         |2000-01-01  |6.1         |Unknown genre                              |en               |Hit                 |\n|343103|3.812     |2.0       |Bring Him Home                                                     |2000-01-01  |6.5         |Family, Drama                              |en               |Hit                 |\n|71618 |3.727     |25.0      |After Sex                                                          |2000-01-01  |5.2         |Comedy, Drama, Romance                     |en               |Hit                 |\n|273471|3.721     |1.0       |Last Stand                                                         |2000-01-01  |1           |Unknown genre                              |en               |Hit                 |\n|287845|3.637     |4.0       |Lost in the Pershing Point Hotel                                   |2000-01-01  |5.5         |Unknown genre                              |en               |Hit                 |\n|453898|3.602     |1.0       |Snow/Woman                                                         |2000-01-01  |2           |Unknown genre                              |ja               |Hit                 |\n|29931 |3.601     |6.0       |The Seduction of Maxine                                            |2000-01-01  |4           |Thriller                                   |en               |Hit                 |\n|283172|3.494     |3.0       |The Red Car                                                        |2000-01-01  |6.7         |Comedy, Drama                              |pt               |Hit                 |\n|343785|3.479     |0.0       |Lost Paradise                                                      |2000-01-01  |0           |Drama                                      |ru               |Hit                 |\n|264117|3.39      |7.0       |Once Upon a Time: Sergio Leone                                     |2000-01-01  |5.9         |Documentary                                |en               |Hit                 |\n|524537|3.237     |0.0       |Cursed Part 3                                                      |2000-01-01  |0           |Unknown genre                              |en               |Hit                 |\n|468017|3.205     |0.0       |Obstacles                                                          |2000-01-01  |0           |Action, Drama, Comedy, Crime               |en               |Hit                 |\n|158323|3.001     |2.0       |Shutterspeed                                                       |2000-01-01  |4           |TV Movie                                   |en               |Hit                 |\n|452053|2.862     |2.0       |Indecent Disclosure                                                |2000-01-01  |5.5         |Drama                                      |en               |Average             |\n|338756|2.857     |5.0       |Inside 'The Spy Who Loved Me'                                      |2000-01-01  |7.4         |Documentary                                |en               |Average             |\n|581617|2.773     |0.0       |Hollywood at Your Feet: The Story of the Chinese Theatre Footprints|2000-01-01  |0           |Documentary                                |en               |Average             |\n|344223|2.738     |0.0       |100 Cameras: Capturing Lars von Trier's Vision                     |2000-01-01  |0           |Documentary                                |en               |Average             |\n|194150|2.621     |2.0       |Home: The Horror Story                                             |2000-01-01  |2.5         |Comedy, Horror                             |en               |Average             |\n|66131 |2.608     |11.0      |A Constant Forge                                                   |2000-01-01  |6.5         |Documentary                                |en               |Average             |\n|197817|2.549     |1.0       |Kog-Head and Meatus                                                |2000-01-01  |8           |Animation, Drama, Comedy, Horror, Adventure|en               |Average             |\n|635760|2.538     |2.0       |El Carretonero                                                     |2000-01-01  |5           |Action                                     |es               |Average             |\n|277439|2.498     |4.0       |The Big Finish                                                     |2000-01-01  |7.5         |Horror                                     |en               |Average             |\n|167880|2.472     |3.0       |Ben & Maria - Liebe auf den zweiten Blick                          |2000-01-01  |4.3         |Romance                                    |de               |Average             |\n|28085 |2.46      |7.0       |Blind Target                                                       |2000-01-01  |3.3         |Thriller, Drama                            |en               |Average             |\n|41738 |2.437     |18.0      |After Alice                                                        |2000-01-01  |5.4         |Thriller                                   |en               |Average             |\n|274380|2.429     |5.0       |The Sandwich                                                       |2000-01-01  |8.2         |Romance, Comedy                            |pt               |Average             |\n|623007|2.422     |0.0       |Vodka: A Russian Fairytale                                         |2000-01-01  |0           |Documentary                                |en               |Average             |\n|203831|2.422     |0.0       |From a Whisper to a Scream: The Living History of Irish Music      |2000-01-01  |0           |Documentary, Music                         |en               |Average             |\n|96716 |2.375     |27.0      |The Bumblebee Flies Anyway                                         |2000-01-01  |6.6         |Drama, Romance                             |en               |Average             |\n|397128|2.362     |3.0       |Millennium Stars                                                   |2000-01-01  |4.5         |Comedy, Drama, Music, Romance              |ml               |Average             |\n|362807|2.362     |5.0       |Paranoid                                                           |2000-01-01  |2.8         |Horror, Thriller                           |en               |Average             |\n|65397 |2.304     |6.0       |Nightfall                                                          |2000-01-01  |4           |Drama, Science Fiction, Thriller           |en               |Average             |\n|464511|2.293     |1.0       |Pursuit of a Killer                                                |2000-01-01  |5           |Action, Crime                              |cn               |Average             |\n|45850 |2.285     |2.0       |Hollywood Sins                                                     |2000-01-01  |3           |Drama                                      |en               |Average             |\n|276456|2.278     |1.0       |Satan in the Suburbs                                               |2000-01-01  |5           |TV Movie, Documentary, Crime               |en               |Average             |\n|355212|2.272     |1.0       |Egypt Decoded                                                      |2000-01-01  |7           |Documentary, History                       |en               |Average             |\n|622580|2.264     |1.0       |Metropolitan Monologues                                            |2000-01-01  |10          |Unknown genre                              |en               |Average             |\n|81953 |2.251     |0.0       |Trial By Fire: A North of 60 Mystery                               |2000-01-01  |0           |Drama                                      |en               |Average             |\n|29763 |2.248     |4.0       |Catacombs                                                          |2000-01-01  |2.5         |Horror                                     |en               |Average             |\n|274303|2.243     |0.0       |A Regular Frankie Fan                                              |2000-01-01  |0           |Unknown genre                              |en               |Average             |\n+------+----------+----------+-------------------------------------------------------------------+------------+------------+-------------------------------------------+-----------------+--------------------+\nonly showing top 50 rows\n\n\nSchema of df_silver:\nroot\n |-- id: integer (nullable = true)\n |-- popularity: double (nullable = true)\n |-- vote_count: double (nullable = true)\n |-- title: string (nullable = true)\n |-- release_date: date (nullable = true)\n |-- vote_average: string (nullable = true)\n |-- genre: string (nullable = true)\n |-- original_language: string (nullable = true)\n |-- Performance_Analysis: string (nullable = false)\n\nData saved to DBFS successfully.\n"
     ]
    }
   ],
   "source": [
    "\n",
    "# Clean and standardize the DataFrame\n",
    "df_silver_layer = standardize_dataframe(df)\n",
    "\n",
    "# Count the number of rows and columns\n",
    "num_rows = df_silver_layer.count()\n",
    "num_columns = len(df_silver_layer.columns)\n",
    "\n",
    "print(f\"Number of columns in the standardized DataFrame: {num_columns}\")\n",
    "df_silver = df_silver_layer\n",
    "\n",
    "# Display the number of rows after dropping\n",
    "final_row_count = df_silver.count()\n",
    "print(f\"Number of rows : {final_row_count}\")\n",
    "\n",
    "# Display the first 50 rows of the DataFrame\n",
    "print(\"\\nFirst 10 rows of df_silver:\")\n",
    "df_silver.show(n=50, truncate=False)\n",
    " # Display the schema of df_silver\n",
    "print(\"\\nSchema of df_silver:\")\n",
    "df_silver.printSchema()\n",
    "\n",
    "# Save df_silver as a Parquet file in DBFS\n",
    "df_silver.write.mode(\"overwrite\").parquet(\"dbfs:/Users/simhad76@students.rowan.edu/silver_layer_data\")\n",
    "\n",
    "print(\"Data saved to DBFS successfully.\")\n",
    "\n",
    "\n",
    "\n"
   ]
  }
 ],
 "metadata": {
  "application/vnd.databricks.v1+notebook": {
   "computePreferences": null,
   "dashboards": [],
   "environmentMetadata": {
    "base_environment": "",
    "client": "1"
   },
   "language": "python",
   "notebookMetadata": {
    "pythonIndentUnit": 4
   },
   "notebookName": "Silver_Layer",
   "widgets": {}
  }
 },
 "nbformat": 4,
 "nbformat_minor": 0
}

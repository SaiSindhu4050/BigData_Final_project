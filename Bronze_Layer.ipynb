{
 "cells": [
  {
   "cell_type": "code",
   "execution_count": 0,
   "metadata": {
    "application/vnd.databricks.v1+cell": {
     "cellMetadata": {
      "byteLimit": 2048000,
      "rowLimit": 10000
     },
     "inputWidgets": {},
     "nuid": "a56523eb-84dd-417e-bd5d-2cb9be02907c",
     "showTitle": false,
     "tableResultSettingsMap": {},
     "title": ""
    }
   },
   "outputs": [
    {
     "output_type": "stream",
     "name": "stdout",
     "output_type": "stream",
     "text": [
      "root\n |-- id: integer (nullable = true)\n |-- title: string (nullable = true)\n |-- release_date: string (nullable = true)\n |-- vote_average: string (nullable = true)\n |-- popularity: double (nullable = true)\n |-- vote_count: double (nullable = true)\n |-- genre: string (nullable = true)\n |-- original_language: string (nullable = true)\n\n"
     ]
    }
   ],
   "source": [
    "# Import necessary libraries\n",
    "from pyspark.sql import SparkSession\n",
    "\n",
    "# Create a Spark session (if not already created)\n",
    "spark = SparkSession.builder.appName(\"CSV Import Example\").getOrCreate()\n",
    "\n",
    "# Define the DBFS path to your CSV file\n",
    "csv_file_path = \"dbfs:/FileStore/tmdb_API__movies_data_2000_2010.csv\"\n",
    "\n",
    "# Read the CSV file into a DataFrame\n",
    "df = spark.read.csv(csv_file_path, header=True, inferSchema=True)\n",
    "\n",
    "# Show the schema of the DataFrame\n",
    "df.printSchema()\n",
    "\n"
   ]
  },
  {
   "cell_type": "code",
   "execution_count": 0,
   "metadata": {
    "application/vnd.databricks.v1+cell": {
     "cellMetadata": {
      "byteLimit": 2048000,
      "rowLimit": 10000
     },
     "inputWidgets": {},
     "nuid": "0f7efb74-6dff-4dee-bd11-6a018d823f33",
     "showTitle": false,
     "tableResultSettingsMap": {},
     "title": ""
    }
   },
   "outputs": [
    {
     "output_type": "stream",
     "name": "stdout",
     "output_type": "stream",
     "text": [
      "Total Rows: 104905, Total Columns: 8\n"
     ]
    }
   ],
   "source": [
    "# Count the number of rows in the DataFrame\n",
    "row_count = df.count()\n",
    "column_count = len(df.columns)\n",
    "\n",
    "# Display all rows and columns in the DataFrame\n",
    "print(f\"Total Rows: {row_count}, Total Columns: {column_count}\")\n",
    "\n"
   ]
  },
  {
   "cell_type": "code",
   "execution_count": 0,
   "metadata": {
    "application/vnd.databricks.v1+cell": {
     "cellMetadata": {
      "byteLimit": 2048000,
      "rowLimit": 10000
     },
     "inputWidgets": {},
     "nuid": "6165af53-7e9d-4068-8f8c-c49a5489f2bf",
     "showTitle": false,
     "tableResultSettingsMap": {},
     "title": ""
    }
   },
   "outputs": [
    {
     "output_type": "stream",
     "name": "stdout",
     "output_type": "stream",
     "text": [
      "+------+--------------------+------------+------------+----------+----------+--------------------+-----------------+\n|    id|               title|release_date|vote_average|popularity|vote_count|               genre|original_language|\n+------+--------------------+------------+------------+----------+----------+--------------------+-----------------+\n| 49948|       Fantasia 2000|    1/1/2000|       6.966|    14.509|    1264.0|Animation, Family...|               en|\n| 41245|    Peppermint Candy|    1/1/2000|         7.5|    11.201|     255.0|               Drama|               ko|\n| 46462|            Nautilus|    1/1/2000|           3|     6.597|       7.0|Action, Science F...|               en|\n|477164|A Profile of In W...|    1/1/2000|           0|     5.274|       0.0|         Documentary|               en|\n| 55178|               D-Day|    1/1/2000|         5.7|      4.95|      23.0|TV Movie, Crime, ...|               da|\n| 20152|Angels of the Uni...|    1/1/2000|         6.9|     4.865|      29.0|               Drama|               is|\n|196139|      Helter Skelter|    1/1/2000|         2.6|     4.483|       8.0|              Horror|               en|\n| 56721|The Mummy Theme Park|    1/1/2000|         4.5|     4.369|      11.0|              Horror|               en|\n|218188|           Table One|    1/1/2000|           4|     4.038|       1.0|              Comedy|               en|\n|625522|    Erotic Day Dream|    1/1/2000|           5|     3.921|       2.0|     Science Fiction|               en|\n|289673|          Cinderella|    1/1/2000|         6.1|     3.914|      23.0|                null|               en|\n|343103|      Bring Him Home|    1/1/2000|         6.5|     3.812|       2.0|       Family, Drama|               en|\n| 71618|           After Sex|    1/1/2000|         5.2|     3.727|      25.0|Comedy, Drama, Ro...|               en|\n|273471|          Last Stand|    1/1/2000|           1|     3.721|       1.0|                null|               en|\n|287845|Lost in the Persh...|    1/1/2000|         5.5|     3.637|       4.0|                null|               en|\n|453898|          Snow/Woman|    1/1/2000|           2|     3.602|       1.0|                null|               ja|\n| 29931|The Seduction of ...|    1/1/2000|           4|     3.601|       6.0|            Thriller|               en|\n|283172|         The Red Car|    1/1/2000|         6.7|     3.494|       3.0|       Comedy, Drama|               pt|\n|343785|       Lost Paradise|    1/1/2000|           0|     3.479|       0.0|               Drama|               ru|\n|264117|Once Upon a Time:...|    1/1/2000|         5.9|      3.39|       7.0|         Documentary|               en|\n+------+--------------------+------------+------------+----------+----------+--------------------+-----------------+\nonly showing top 20 rows\n\n"
     ]
    }
   ],
   "source": [
    "# Show all rows (truncate=False to show full content of columns)\n",
    "df.show()"
   ]
  }
 ],
 "metadata": {
  "application/vnd.databricks.v1+notebook": {
   "dashboards": [],
   "environmentMetadata": {
    "base_environment": "",
    "client": "1"
   },
   "language": "python",
   "notebookMetadata": {
    "pythonIndentUnit": 4
   },
   "notebookName": "Bronze_Layer",
   "widgets": {}
  }
 },
 "nbformat": 4,
 "nbformat_minor": 0
}

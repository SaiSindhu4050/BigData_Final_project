{
 "cells": [
  {
   "cell_type": "code",
   "execution_count": 0,
   "metadata": {
    "application/vnd.databricks.v1+cell": {
     "cellMetadata": {
      "byteLimit": 2048000,
      "rowLimit": 10000
     },
     "inputWidgets": {},
     "nuid": "d3a2d54e-b05c-4db0-bbbc-1a441190866c",
     "showTitle": false,
     "tableResultSettingsMap": {},
     "title": ""
    }
   },
   "outputs": [
    {
     "output_type": "stream",
     "name": "stdout",
     "output_type": "stream",
     "text": [
      "Sample data from Gold Layer:\n"
     ]
    },
    {
     "output_type": "display_data",
     "data": {
      "text/html": [
       "<style scoped>\n",
       "  .table-result-container {\n",
       "    max-height: 300px;\n",
       "    overflow: auto;\n",
       "  }\n",
       "  table, th, td {\n",
       "    border: 1px solid black;\n",
       "    border-collapse: collapse;\n",
       "  }\n",
       "  th, td {\n",
       "    padding: 5px;\n",
       "  }\n",
       "  th {\n",
       "    text-align: left;\n",
       "  }\n",
       "</style><div class='table-result-container'><table class='table-result'><thead style='background-color: white'><tr><th>id</th><th>popularity</th><th>vote_count</th><th>title</th><th>release_date</th><th>vote_average</th><th>genre</th><th>original_language</th><th>Performance_Analysis</th></tr></thead><tbody><tr><td>49948</td><td>14.509</td><td>1264.0</td><td>Fantasia 2000</td><td>2000-01-01</td><td>6.966</td><td>Animation, Family, Music</td><td>en</td><td>Hit</td></tr><tr><td>41245</td><td>11.201</td><td>255.0</td><td>Peppermint Candy</td><td>2000-01-01</td><td>7.5</td><td>Drama</td><td>ko</td><td>Hit</td></tr><tr><td>46462</td><td>6.597</td><td>7.0</td><td>Nautilus</td><td>2000-01-01</td><td>3</td><td>Action, Science Fiction</td><td>en</td><td>Hit</td></tr><tr><td>477164</td><td>5.274</td><td>0.0</td><td>A Profile of In Which We Serve</td><td>2000-01-01</td><td>0</td><td>Documentary</td><td>en</td><td>Hit</td></tr><tr><td>55178</td><td>4.95</td><td>23.0</td><td>D-Day</td><td>2000-01-01</td><td>5.7</td><td>TV Movie, Crime, Drama</td><td>da</td><td>Hit</td></tr><tr><td>20152</td><td>4.865</td><td>29.0</td><td>Angels of the Universe</td><td>2000-01-01</td><td>6.9</td><td>Drama</td><td>is</td><td>Hit</td></tr><tr><td>196139</td><td>4.483</td><td>8.0</td><td>Helter Skelter</td><td>2000-01-01</td><td>2.6</td><td>Horror</td><td>en</td><td>Hit</td></tr><tr><td>56721</td><td>4.369</td><td>11.0</td><td>The Mummy Theme Park</td><td>2000-01-01</td><td>4.5</td><td>Horror</td><td>en</td><td>Hit</td></tr><tr><td>218188</td><td>4.038</td><td>1.0</td><td>Table One</td><td>2000-01-01</td><td>4</td><td>Comedy</td><td>en</td><td>Hit</td></tr><tr><td>625522</td><td>3.921</td><td>2.0</td><td>Erotic Day Dream</td><td>2000-01-01</td><td>5</td><td>Science Fiction</td><td>en</td><td>Hit</td></tr><tr><td>289673</td><td>3.914</td><td>23.0</td><td>Cinderella</td><td>2000-01-01</td><td>6.1</td><td>Unknown genre</td><td>en</td><td>Hit</td></tr><tr><td>343103</td><td>3.812</td><td>2.0</td><td>Bring Him Home</td><td>2000-01-01</td><td>6.5</td><td>Family, Drama</td><td>en</td><td>Hit</td></tr><tr><td>71618</td><td>3.727</td><td>25.0</td><td>After Sex</td><td>2000-01-01</td><td>5.2</td><td>Comedy, Drama, Romance</td><td>en</td><td>Hit</td></tr><tr><td>273471</td><td>3.721</td><td>1.0</td><td>Last Stand</td><td>2000-01-01</td><td>1</td><td>Unknown genre</td><td>en</td><td>Hit</td></tr><tr><td>287845</td><td>3.637</td><td>4.0</td><td>Lost in the Pershing Point Hotel</td><td>2000-01-01</td><td>5.5</td><td>Unknown genre</td><td>en</td><td>Hit</td></tr><tr><td>453898</td><td>3.602</td><td>1.0</td><td>Snow/Woman</td><td>2000-01-01</td><td>2</td><td>Unknown genre</td><td>ja</td><td>Hit</td></tr><tr><td>29931</td><td>3.601</td><td>6.0</td><td>The Seduction of Maxine</td><td>2000-01-01</td><td>4</td><td>Thriller</td><td>en</td><td>Hit</td></tr><tr><td>283172</td><td>3.494</td><td>3.0</td><td>The Red Car</td><td>2000-01-01</td><td>6.7</td><td>Comedy, Drama</td><td>pt</td><td>Hit</td></tr><tr><td>343785</td><td>3.479</td><td>0.0</td><td>Lost Paradise</td><td>2000-01-01</td><td>0</td><td>Drama</td><td>ru</td><td>Hit</td></tr><tr><td>264117</td><td>3.39</td><td>7.0</td><td>Once Upon a Time: Sergio Leone</td><td>2000-01-01</td><td>5.9</td><td>Documentary</td><td>en</td><td>Hit</td></tr><tr><td>524537</td><td>3.237</td><td>0.0</td><td>Cursed Part 3</td><td>2000-01-01</td><td>0</td><td>Unknown genre</td><td>en</td><td>Hit</td></tr><tr><td>468017</td><td>3.205</td><td>0.0</td><td>Obstacles</td><td>2000-01-01</td><td>0</td><td>Action, Drama, Comedy, Crime</td><td>en</td><td>Hit</td></tr><tr><td>158323</td><td>3.001</td><td>2.0</td><td>Shutterspeed</td><td>2000-01-01</td><td>4</td><td>TV Movie</td><td>en</td><td>Hit</td></tr><tr><td>452053</td><td>2.862</td><td>2.0</td><td>Indecent Disclosure</td><td>2000-01-01</td><td>5.5</td><td>Drama</td><td>en</td><td>Average</td></tr><tr><td>338756</td><td>2.857</td><td>5.0</td><td>Inside 'The Spy Who Loved Me'</td><td>2000-01-01</td><td>7.4</td><td>Documentary</td><td>en</td><td>Average</td></tr></tbody></table></div>"
      ]
     },
     "metadata": {
      "application/vnd.databricks.v1+output": {
       "addedWidgets": {},
       "aggData": [],
       "aggError": "",
       "aggOverflow": false,
       "aggSchema": [],
       "aggSeriesLimitReached": false,
       "aggType": "",
       "arguments": {},
       "columnCustomDisplayInfos": {},
       "data": [
        [
         49948,
         14.509,
         1264.0,
         "Fantasia 2000",
         "2000-01-01",
         "6.966",
         "Animation, Family, Music",
         "en",
         "Hit"
        ],
        [
         41245,
         11.201,
         255.0,
         "Peppermint Candy",
         "2000-01-01",
         "7.5",
         "Drama",
         "ko",
         "Hit"
        ],
        [
         46462,
         6.597,
         7.0,
         "Nautilus",
         "2000-01-01",
         "3",
         "Action, Science Fiction",
         "en",
         "Hit"
        ],
        [
         477164,
         5.274,
         0.0,
         "A Profile of In Which We Serve",
         "2000-01-01",
         "0",
         "Documentary",
         "en",
         "Hit"
        ],
        [
         55178,
         4.95,
         23.0,
         "D-Day",
         "2000-01-01",
         "5.7",
         "TV Movie, Crime, Drama",
         "da",
         "Hit"
        ],
        [
         20152,
         4.865,
         29.0,
         "Angels of the Universe",
         "2000-01-01",
         "6.9",
         "Drama",
         "is",
         "Hit"
        ],
        [
         196139,
         4.483,
         8.0,
         "Helter Skelter",
         "2000-01-01",
         "2.6",
         "Horror",
         "en",
         "Hit"
        ],
        [
         56721,
         4.369,
         11.0,
         "The Mummy Theme Park",
         "2000-01-01",
         "4.5",
         "Horror",
         "en",
         "Hit"
        ],
        [
         218188,
         4.038,
         1.0,
         "Table One",
         "2000-01-01",
         "4",
         "Comedy",
         "en",
         "Hit"
        ],
        [
         625522,
         3.921,
         2.0,
         "Erotic Day Dream",
         "2000-01-01",
         "5",
         "Science Fiction",
         "en",
         "Hit"
        ],
        [
         289673,
         3.914,
         23.0,
         "Cinderella",
         "2000-01-01",
         "6.1",
         "Unknown genre",
         "en",
         "Hit"
        ],
        [
         343103,
         3.812,
         2.0,
         "Bring Him Home",
         "2000-01-01",
         "6.5",
         "Family, Drama",
         "en",
         "Hit"
        ],
        [
         71618,
         3.727,
         25.0,
         "After Sex",
         "2000-01-01",
         "5.2",
         "Comedy, Drama, Romance",
         "en",
         "Hit"
        ],
        [
         273471,
         3.721,
         1.0,
         "Last Stand",
         "2000-01-01",
         "1",
         "Unknown genre",
         "en",
         "Hit"
        ],
        [
         287845,
         3.637,
         4.0,
         "Lost in the Pershing Point Hotel",
         "2000-01-01",
         "5.5",
         "Unknown genre",
         "en",
         "Hit"
        ],
        [
         453898,
         3.602,
         1.0,
         "Snow/Woman",
         "2000-01-01",
         "2",
         "Unknown genre",
         "ja",
         "Hit"
        ],
        [
         29931,
         3.601,
         6.0,
         "The Seduction of Maxine",
         "2000-01-01",
         "4",
         "Thriller",
         "en",
         "Hit"
        ],
        [
         283172,
         3.494,
         3.0,
         "The Red Car",
         "2000-01-01",
         "6.7",
         "Comedy, Drama",
         "pt",
         "Hit"
        ],
        [
         343785,
         3.479,
         0.0,
         "Lost Paradise",
         "2000-01-01",
         "0",
         "Drama",
         "ru",
         "Hit"
        ],
        [
         264117,
         3.39,
         7.0,
         "Once Upon a Time: Sergio Leone",
         "2000-01-01",
         "5.9",
         "Documentary",
         "en",
         "Hit"
        ],
        [
         524537,
         3.237,
         0.0,
         "Cursed Part 3",
         "2000-01-01",
         "0",
         "Unknown genre",
         "en",
         "Hit"
        ],
        [
         468017,
         3.205,
         0.0,
         "Obstacles",
         "2000-01-01",
         "0",
         "Action, Drama, Comedy, Crime",
         "en",
         "Hit"
        ],
        [
         158323,
         3.001,
         2.0,
         "Shutterspeed",
         "2000-01-01",
         "4",
         "TV Movie",
         "en",
         "Hit"
        ],
        [
         452053,
         2.862,
         2.0,
         "Indecent Disclosure",
         "2000-01-01",
         "5.5",
         "Drama",
         "en",
         "Average"
        ],
        [
         338756,
         2.857,
         5.0,
         "Inside 'The Spy Who Loved Me'",
         "2000-01-01",
         "7.4",
         "Documentary",
         "en",
         "Average"
        ]
       ],
       "datasetInfos": [],
       "dbfsResultPath": null,
       "isJsonSchema": true,
       "metadata": {},
       "overflow": false,
       "plotOptions": {
        "customPlotOptions": {},
        "displayType": "table",
        "pivotAggregation": null,
        "pivotColumns": null,
        "xColumns": null,
        "yColumns": null
       },
       "removedWidgets": [],
       "schema": [
        {
         "metadata": "{}",
         "name": "id",
         "type": "\"integer\""
        },
        {
         "metadata": "{}",
         "name": "popularity",
         "type": "\"double\""
        },
        {
         "metadata": "{}",
         "name": "vote_count",
         "type": "\"double\""
        },
        {
         "metadata": "{}",
         "name": "title",
         "type": "\"string\""
        },
        {
         "metadata": "{}",
         "name": "release_date",
         "type": "\"date\""
        },
        {
         "metadata": "{}",
         "name": "vote_average",
         "type": "\"string\""
        },
        {
         "metadata": "{}",
         "name": "genre",
         "type": "\"string\""
        },
        {
         "metadata": "{}",
         "name": "original_language",
         "type": "\"string\""
        },
        {
         "metadata": "{}",
         "name": "Performance_Analysis",
         "type": "\"string\""
        }
       ],
       "type": "table"
      }
     },
     "output_type": "display_data"
    },
    {
     "output_type": "stream",
     "name": "stdout",
     "output_type": "stream",
     "text": [
      "Number of rows: 104905\nNumber of columns: 9\n\nColumns:\nid\npopularity\nvote_count\ntitle\nrelease_date\nvote_average\ngenre\noriginal_language\nPerformance_Analysis\n"
     ]
    }
   ],
   "source": [
    "# Load the data from DBFS\n",
    "df_gold = spark.read.parquet(\"dbfs:/Users/simhad76@students.rowan.edu/silver_layer_data\")\n",
    "\n",
    "# Display the first few rows of the DataFrame\n",
    "print(\"Sample data from Gold Layer:\")\n",
    "display(df_gold.limit(25))\n",
    "\n",
    "# Get the number of rows and columns\n",
    "num_rows = df_gold.count()\n",
    "num_columns = len(df_gold.columns)\n",
    "\n",
    "# Print the number of rows and columns\n",
    "print(f\"Number of rows: {num_rows}\")\n",
    "print(f\"Number of columns: {num_columns}\")\n",
    "\n",
    "# Print the column names\n",
    "print(\"\\nColumns:\")\n",
    "for column in df_gold.columns:\n",
    "    print(column)\n",
    "\n",
    "# Continue with further analysis or transformations...\n"
   ]
  },
  {
   "cell_type": "code",
   "execution_count": 0,
   "metadata": {
    "application/vnd.databricks.v1+cell": {
     "cellMetadata": {
      "byteLimit": 2048000,
      "rowLimit": 10000
     },
     "inputWidgets": {},
     "nuid": "68528937-78be-4cb1-8bfc-18efe0fea1be",
     "showTitle": false,
     "tableResultSettingsMap": {},
     "title": ""
    }
   },
   "outputs": [],
   "source": [
    "spark.conf.set(\"spark.databricks.delta.schema.autoMerge.enabled\", \"true\")\n"
   ]
  },
  {
   "cell_type": "code",
   "execution_count": 0,
   "metadata": {
    "application/vnd.databricks.v1+cell": {
     "cellMetadata": {
      "byteLimit": 2048000,
      "rowLimit": 10000
     },
     "inputWidgets": {},
     "nuid": "6f51b101-bc95-41d2-ac7e-548502127bce",
     "showTitle": false,
     "tableResultSettingsMap": {},
     "title": ""
    }
   },
   "outputs": [],
   "source": [
    "from pyspark.sql import SparkSession\n",
    "from pyspark.sql import DataFrame\n",
    "from pyspark.sql.functions import col, countDistinct, avg, when, count, year,  udf, month, to_date, avg, round, size\n",
    "from pyspark.sql.functions import coalesce, max, min, desc, sum,first, last,expr,size,split,when, explode,lit,sum as _sum \n",
    "import random\n",
    "from datetime import datetime\n",
    "from pyspark.sql.types import IntegerType, StringType\n",
    "\n"
   ]
  },
  {
   "cell_type": "code",
   "execution_count": 0,
   "metadata": {
    "application/vnd.databricks.v1+cell": {
     "cellMetadata": {
      "byteLimit": 2048000,
      "rowLimit": 10000
     },
     "inputWidgets": {},
     "nuid": "f3de1362-e05a-4728-bd8a-e82b545af97f",
     "showTitle": false,
     "tableResultSettingsMap": {},
     "title": ""
    }
   },
   "outputs": [
    {
     "output_type": "stream",
     "name": "stdout",
     "output_type": "stream",
     "text": [
      "Number of null rows in genre column: 0\nNumber of distinct genres: 4225\n\nPerformance analysis by genre:\n+---------------+-------------------+-----------------+\n|genre          |average_performance|total_movie_count|\n+---------------+-------------------+-----------------+\n|Adventure      |4.884286838340484  |2796             |\n|Mystery        |4.549206854345166  |2451             |\n|Family         |4.488424219536759  |3972             |\n|Thriller       |4.467644222415288  |6906             |\n|War            |4.41953616636528   |1106             |\n|Romance        |4.411732318147498  |7946             |\n|Fantasy        |4.380755629383535  |2709             |\n|Crime          |4.349897260273967  |4380             |\n|Action         |4.3128148035795535 |6593             |\n|Science Fiction|4.250006664198443  |2701             |\n|TV Movie       |4.242115463447964  |4391             |\n|Western        |4.2080110294117645 |272              |\n|Comedy         |4.056372274894214  |18669            |\n|History        |4.0476787450287235 |2263             |\n|Drama          |4.007724884889071  |28668            |\n|Animation      |3.5894695101061975 |5838             |\n|Music          |3.517352725218868  |7082             |\n|Horror         |3.3066283337734363 |7574             |\n|Documentary    |3.009780714151115  |21228            |\n|Unknown genre  |1.7257490762512604 |20839            |\n+---------------+-------------------+-----------------+\nonly showing top 20 rows\n\n\nGenre with maximum average performance level:\nGenre: Adventure, Average Performance Level: 4.88, Total Movie Count: 2796\n"
     ]
    }
   ],
   "source": [
    "# To analyze the performance of movies by genre and determine which genre has the highest average performance level while also showing the total movie count for each genre, you can follow these steps:\n",
    "\n",
    "# Check for null values in the genre column\n",
    "null_genre_count = df_gold.filter(col(\"genre\").isNull()).count()\n",
    "print(f\"Number of null rows in genre column: {null_genre_count}\")\n",
    "# Count distinct genres\n",
    "distinct_genres = df_gold.select(\"genre\").distinct().count()\n",
    "print(f\"Number of distinct genres: {distinct_genres}\")\n",
    "\n",
    "\n",
    "# Assuming genres are stored as a string (e.g., \"Action, Comedy\"), we can split them\n",
    "# Split the genre column by comma and explode it to create a new row for each genre\n",
    "df_genres = df_gold.withColumn(\"genre\", explode(split(col(\"genre\"), \", \")))\n",
    "\n",
    "# Group by genre and calculate average vote_average and total movie count\n",
    "performance_by_genre = df_genres.groupBy(\"genre\") \\\n",
    "    .agg(\n",
    "        avg(\"vote_average\").alias(\"average_performance\"),\n",
    "        count(\"*\").alias(\"total_movie_count\")\n",
    "    ) \\\n",
    "    .orderBy(desc(\"average_performance\"))\n",
    "\n",
    "# Get the genre with the maximum average performance level\n",
    "top_performance_genre = performance_by_genre.first()  # Get the top result\n",
    "\n",
    "# Show results for each genre with its average performance and total movie count\n",
    "print(\"\\nPerformance analysis by genre:\")\n",
    "performance_by_genre.show(truncate=False)\n",
    "\n",
    "# Show results for the genre with maximum performance level\n",
    "print(\"\\nGenre with maximum average performance level:\")\n",
    "if top_performance_genre:\n",
    "    print(f\"Genre: {top_performance_genre['genre']}, Average Performance Level: {top_performance_genre['average_performance']:.2f}, Total Movie Count: {top_performance_genre['total_movie_count']}\")\n",
    "else:\n",
    "    print(\"No data available.\")\n"
   ]
  },
  {
   "cell_type": "code",
   "execution_count": 0,
   "metadata": {
    "application/vnd.databricks.v1+cell": {
     "cellMetadata": {
      "byteLimit": 2048000,
      "rowLimit": 10000
     },
     "inputWidgets": {},
     "nuid": "5b39f5bc-edd2-4aab-9a45-95393f520e38",
     "showTitle": false,
     "tableResultSettingsMap": {},
     "title": ""
    }
   },
   "outputs": [
    {
     "output_type": "stream",
     "name": "stdout",
     "output_type": "stream",
     "text": [
      "Top Performing Languages (Culthit & Superhit Films):\n+-----------------+-------------+--------------+--------------+\n|original_language|genre_type   |top_film_count|avg_popularity|\n+-----------------+-------------+--------------+--------------+\n|en               |multi_genre  |212           |84.657        |\n|en               |single_genre |16            |72.527        |\n|ja               |multi_genre  |9             |68.518        |\n|es               |multi_genre  |6             |59.976        |\n|ko               |multi_genre  |3             |61.515        |\n|fr               |multi_genre  |3             |61.313        |\n|it               |multi_genre  |2             |173.739       |\n|es               |single_genre |2             |53.218        |\n|nl               |single_genre |1             |314.297       |\n|it               |single_genre |1             |79.477        |\n|ja               |unknown_genre|1             |68.146        |\n|lt               |single_genre |1             |66.103        |\n|fr               |single_genre |1             |56.124        |\n|hi               |multi_genre  |1             |54.789        |\n|cn               |multi_genre  |1             |52.936        |\n|sr               |multi_genre  |1             |52.431        |\n+-----------------+-------------+--------------+--------------+\n\nNumber of multi-genre, single-genre, and unknown genre films:\n+-------------+----------+\n|genre_type   |film_count|\n+-------------+----------+\n|multi_genre  |35991     |\n|unknown_genre|20839     |\n|single_genre |48075     |\n+-------------+----------+\n\n"
     ]
    }
   ],
   "source": [
    "\n",
    "\n",
    "def top_performing_languages_with_genre(df):\n",
    "    \"\"\"\n",
    "    Identify top performing languages based on Blockbuster and Superhit films,\n",
    "    and classify them as multi-genre, single-genre, or unknown genre.\n",
    "    \"\"\"\n",
    "    # Filter for relevant performance analysis\n",
    "    filtered_df = df.filter(\n",
    "        (col(\"Performance_Analysis\") == \"Culthit\") | \n",
    "        (col(\"Performance_Analysis\") == \"Superhit/Blockbuster\")\n",
    "    )\n",
    "\n",
    "    # Determine if a film is multi-genre, single-genre, or unknown genre\n",
    "    filtered_df = filtered_df.withColumn(\n",
    "        \"genre_count\",\n",
    "        size(split(col(\"genre\"), \",\"))\n",
    "    ).withColumn(\n",
    "        \"genre_type\",\n",
    "        when(col(\"genre\").startswith(\"Unknown\"), \"unknown_genre\")\n",
    "        .when(col(\"genre_count\") > 1, \"multi_genre\")\n",
    "        .otherwise(\"single_genre\")\n",
    "    )\n",
    "\n",
    "    # Group by language and genre type\n",
    "    top_languages = filtered_df.groupBy(\"original_language\", \"genre_type\") \\\n",
    "        .agg(\n",
    "            count(\"*\").alias(\"top_film_count\"),\n",
    "            round(avg(\"popularity\"), 3).alias(\"avg_popularity\")  # Round average popularity to 3 decimal places\n",
    "        ).orderBy(col(\"top_film_count\").desc(), col(\"avg_popularity\").desc())\n",
    "    \n",
    "    return top_languages\n",
    "\n",
    "# Get Top Performing Languages with Genre Type\n",
    "top_languages = top_performing_languages_with_genre(df_gold)\n",
    "\n",
    "print(\"Top Performing Languages (Culthit & Superhit Films):\")\n",
    "top_languages.show(truncate=False)\n",
    "\n",
    "# Additional analysis for genre counts if needed\n",
    "df_genre_counts = df_gold.withColumn(\n",
    "    \"genre_count\",\n",
    "    size(split(col(\"genre\"), \",\"))\n",
    ").groupBy(\n",
    "    when(col(\"genre\").isNull() | col(\"genre\").startswith(\"Unknown\"), \"unknown_genre\")\n",
    "    .when(col(\"genre_count\") > 1, \"multi_genre\")\n",
    "    .otherwise(\"single_genre\").alias(\"genre_type\")\n",
    ").agg(\n",
    "    count(\"*\").alias(\"film_count\")\n",
    ")\n",
    "\n",
    "# Show the results for genre counts\n",
    "print(\"Number of multi-genre, single-genre, and unknown genre films:\")\n",
    "df_genre_counts.show(truncate=False)\n"
   ]
  },
  {
   "cell_type": "code",
   "execution_count": 0,
   "metadata": {
    "application/vnd.databricks.v1+cell": {
     "cellMetadata": {
      "byteLimit": 2048000,
      "rowLimit": 10000
     },
     "inputWidgets": {},
     "nuid": "ddadcc77-9e50-49ee-b2ff-a14a40f2dbd8",
     "showTitle": false,
     "tableResultSettingsMap": {},
     "title": ""
    }
   },
   "outputs": [
    {
     "output_type": "stream",
     "name": "stdout",
     "output_type": "stream",
     "text": [
      "Top Performing Genres (Culthit & Superhit Films):\n+-------------+--------------+--------------+\n|genre_type   |top_film_count|avg_popularity|\n+-------------+--------------+--------------+\n|multi_genre  |238           |83.193        |\n|single_genre |22            |81.039        |\n|unknown_genre|1             |68.146        |\n+-------------+--------------+--------------+\n\nNumber of films by genre type and their average popularity:\n+-------------+----------+--------------+\n|genre_type   |film_count|avg_popularity|\n+-------------+----------+--------------+\n|multi_genre  |35991     |3.986         |\n|unknown_genre|20839     |0.452         |\n|single_genre |48075     |1.215         |\n+-------------+----------+--------------+\n\n"
     ]
    }
   ],
   "source": [
    "from pyspark.sql import DataFrame\n",
    "from pyspark.sql.functions import col, count, avg, size, split, when, round\n",
    "\n",
    "def top_performing_languages_with_genre(df: DataFrame):\n",
    "    \"\"\"\n",
    "    Identify top performing languages based on Blockbuster and Superhit films,\n",
    "    and classify them as multi-genre, single-genre, or unknown genre.\n",
    "    Also, calculate the average popularity by genre type.\n",
    "    \"\"\"\n",
    "    # Filter for relevant performance analysis\n",
    "    filtered_df = df.filter(\n",
    "        (col(\"Performance_Analysis\") == \"Culthit\") | \n",
    "        (col(\"Performance_Analysis\") == \"Superhit/Blockbuster\")\n",
    "    )\n",
    "\n",
    "    # Determine if a film is multi-genre, single-genre, or unknown genre\n",
    "    filtered_df = filtered_df.withColumn(\n",
    "        \"genre_count\",\n",
    "        size(split(col(\"genre\"), \",\"))\n",
    "    ).withColumn(\n",
    "        \"genre_type\",\n",
    "        when(col(\"genre\").startswith(\"Unknown\"), \"unknown_genre\")\n",
    "        .when(col(\"genre_count\") > 1, \"multi_genre\")\n",
    "        .otherwise(\"single_genre\")\n",
    "    )\n",
    "\n",
    "    # Group by genre_type and calculate metrics\n",
    "    top_genre_types = filtered_df.groupBy(\"genre_type\") \\\n",
    "        .agg(\n",
    "            count(\"*\").alias(\"top_film_count\"),\n",
    "            round(avg(\"popularity\"), 3).alias(\"avg_popularity\")  # Round average popularity to 3 decimal places\n",
    "        ).orderBy(col(\"top_film_count\").desc(), col(\"avg_popularity\").desc())\n",
    "    \n",
    "    return top_genre_types\n",
    "\n",
    "# Get Top Performing Genres (Culthit & Superhit Films)\n",
    "top_genre_types = top_performing_languages_with_genre(df_gold)\n",
    "\n",
    "print(\"Top Performing Genres (Culthit & Superhit Films):\")\n",
    "top_genre_types.show(truncate=False)\n",
    "\n",
    "# Additional analysis for genre counts if needed\n",
    "df_genre_counts = df_gold.withColumn(\n",
    "    \"genre_count\",\n",
    "    size(split(col(\"genre\"), \",\"))\n",
    ").withColumn(\n",
    "    \"genre_type\",\n",
    "    when(col(\"genre\").isNull() | col(\"genre\").startswith(\"Unknown\"), \"unknown_genre\")\n",
    "    .when(col(\"genre_count\") > 1, \"multi_genre\")\n",
    "    .otherwise(\"single_genre\")\n",
    ").groupBy(\n",
    "    \"genre_type\"\n",
    ").agg(\n",
    "    count(\"*\").alias(\"film_count\"),\n",
    "    round(avg(\"popularity\"), 3).alias(\"avg_popularity\")  # Calculate average popularity for genre types\n",
    ")\n",
    "\n",
    "# Show the results for genre counts and average popularity\n",
    "print(\"Number of films by genre type and their average popularity:\")\n",
    "df_genre_counts.show(truncate=False)\n"
   ]
  },
  {
   "cell_type": "code",
   "execution_count": 0,
   "metadata": {
    "application/vnd.databricks.v1+cell": {
     "cellMetadata": {
      "byteLimit": 2048000,
      "rowLimit": 10000
     },
     "inputWidgets": {},
     "nuid": "304f2208-6192-4de1-b1e3-f93b0cac0bbd",
     "showTitle": false,
     "tableResultSettingsMap": {},
     "title": ""
    }
   },
   "outputs": [
    {
     "output_type": "stream",
     "name": "stdout",
     "output_type": "stream",
     "text": [
      "\nOriginal Schema:\nroot\n |-- id: integer (nullable = true)\n |-- popularity: double (nullable = true)\n |-- vote_count: double (nullable = true)\n |-- title: string (nullable = true)\n |-- release_date: date (nullable = true)\n |-- vote_average: string (nullable = true)\n |-- genre: string (nullable = true)\n |-- original_language: string (nullable = true)\n |-- Performance_Analysis: string (nullable = true)\n\n\nSample Data:\n+------+----------+----------+------------------------------+------------+------------+------------------------+-----------------+--------------------+\n|id    |popularity|vote_count|title                         |release_date|vote_average|genre                   |original_language|Performance_Analysis|\n+------+----------+----------+------------------------------+------------+------------+------------------------+-----------------+--------------------+\n|49948 |14.509    |1264.0    |Fantasia 2000                 |2000-01-01  |6.966       |Animation, Family, Music|en               |Hit                 |\n|41245 |11.201    |255.0     |Peppermint Candy              |2000-01-01  |7.5         |Drama                   |ko               |Hit                 |\n|46462 |6.597     |7.0       |Nautilus                      |2000-01-01  |3           |Action, Science Fiction |en               |Hit                 |\n|477164|5.274     |0.0       |A Profile of In Which We Serve|2000-01-01  |0           |Documentary             |en               |Hit                 |\n|55178 |4.95      |23.0      |D-Day                         |2000-01-01  |5.7         |TV Movie, Crime, Drama  |da               |Hit                 |\n+------+----------+----------+------------------------------+------------+------------+------------------------+-----------------+--------------------+\nonly showing top 5 rows\n\n\nMovie counts for years 2000 to 2010:\n+------------+-----------------+\n|release_year|total_movie_count|\n+------------+-----------------+\n|2000        |7583             |\n|2001        |8278             |\n|2002        |9043             |\n|2003        |9999             |\n|2004        |10000            |\n|2005        |10000            |\n|2006        |10000            |\n|2007        |10000            |\n|2008        |10000            |\n|2009        |10000            |\n|2010        |10000            |\n+------------+-----------------+\n\n"
     ]
    }
   ],
   "source": [
    "from pyspark.sql import SparkSession\n",
    "from pyspark.sql.functions import col, count, year\n",
    "\n",
    "# Create or get a Spark session\n",
    "spark = SparkSession.builder \\\n",
    "    .appName(\"DataFrame Analysis\") \\\n",
    "    .getOrCreate()\n",
    "\n",
    "# Load the data from DBFS (ensure df_gold is already loaded)\n",
    "df_gold = spark.read.parquet(\"dbfs:/Users/simhad76@students.rowan.edu/silver_layer_data\")\n",
    "\n",
    "# Display original schema\n",
    "print(\"\\nOriginal Schema:\")\n",
    "df_gold.printSchema()\n",
    "\n",
    "# Show a sample of data\n",
    "print(\"\\nSample Data:\")\n",
    "df_gold.show(5, truncate=False)\n",
    "\n",
    "# Add release_year column using the year function directly on the release_date column\n",
    "df_gold = df_gold.withColumn(\"release_year\", year(col(\"release_date\")))\n",
    "\n",
    "# Group by year and count movies\n",
    "year_counts = df_gold.groupBy(\"release_year\") \\\n",
    "    .agg(count(\"*\").alias(\"total_movie_count\")) \\\n",
    "    .orderBy(col(\"release_year\"))\n",
    "\n",
    "# Show years from 2000 to 2010 with total movie counts\n",
    "print(\"\\nMovie counts for years 2000 to 2010:\")\n",
    "year_counts_filtered = year_counts.filter((col(\"release_year\") >= 2000) & (col(\"release_year\") <= 2010))\n",
    "\n",
    "# Display only total movie counts without average\n",
    "result_df = year_counts_filtered.select(\"release_year\", \"total_movie_count\")\n",
    "\n",
    "result_df.show(truncate=False)\n",
    "\n",
    "\n",
    "\n"
   ]
  },
  {
   "cell_type": "code",
   "execution_count": 0,
   "metadata": {
    "application/vnd.databricks.v1+cell": {
     "cellMetadata": {
      "byteLimit": 2048000,
      "rowLimit": 10000
     },
     "inputWidgets": {},
     "nuid": "f51bc708-86a2-4c5e-ab1d-67f1044fe8e3",
     "showTitle": false,
     "tableResultSettingsMap": {},
     "title": ""
    }
   },
   "outputs": [
    {
     "output_type": "stream",
     "name": "stdout",
     "output_type": "stream",
     "text": [
      "\nOriginal Schema:\nroot\n |-- id: integer (nullable = true)\n |-- popularity: double (nullable = true)\n |-- vote_count: double (nullable = true)\n |-- title: string (nullable = true)\n |-- release_date: date (nullable = true)\n |-- vote_average: string (nullable = true)\n |-- genre: string (nullable = true)\n |-- original_language: string (nullable = true)\n |-- Performance_Analysis: string (nullable = true)\n\n\nSample Data:\n+------+----------+----------+------------------------------+------------+------------+------------------------+-----------------+--------------------+\n|id    |popularity|vote_count|title                         |release_date|vote_average|genre                   |original_language|Performance_Analysis|\n+------+----------+----------+------------------------------+------------+------------+------------------------+-----------------+--------------------+\n|49948 |14.509    |1264.0    |Fantasia 2000                 |2000-01-01  |6.966       |Animation, Family, Music|en               |Hit                 |\n|41245 |11.201    |255.0     |Peppermint Candy              |2000-01-01  |7.5         |Drama                   |ko               |Hit                 |\n|46462 |6.597     |7.0       |Nautilus                      |2000-01-01  |3           |Action, Science Fiction |en               |Hit                 |\n|477164|5.274     |0.0       |A Profile of In Which We Serve|2000-01-01  |0           |Documentary             |en               |Hit                 |\n|55178 |4.95      |23.0      |D-Day                         |2000-01-01  |5.7         |TV Movie, Crime, Drama  |da               |Hit                 |\n+------+----------+----------+------------------------------+------------+------------+------------------------+-----------------+--------------------+\nonly showing top 5 rows\n\n\nTotal and average movie counts for each month from years 2000 to 2010:\n+-------------+-----------------+-------------------+\n|release_month|total_movie_count|average_movie_count|\n+-------------+-----------------+-------------------+\n|1            |24801            |2254.6363636363635 |\n|2            |6033             |548.4545454545455  |\n|3            |7051             |641.0              |\n|4            |6832             |621.0909090909091  |\n|5            |6460             |587.2727272727273  |\n|6            |7395             |672.2727272727273  |\n|7            |5942             |540.1818181818181  |\n|8            |6227             |566.0909090909091  |\n|9            |8385             |762.2727272727273  |\n|10           |9533             |866.6363636363636  |\n|11           |8327             |757.0              |\n|12           |7917             |719.7272727272727  |\n+-------------+-----------------+-------------------+\n\n"
     ]
    }
   ],
   "source": [
    "from pyspark.sql import SparkSession\n",
    "from pyspark.sql.functions import col, count, year, month, sum, avg\n",
    "\n",
    "# Create or get a Spark session\n",
    "spark = SparkSession.builder \\\n",
    "    .appName(\"DataFrame Analysis\") \\\n",
    "    .getOrCreate()\n",
    "\n",
    "# Load the data from DBFS (ensure df_gold is already loaded)\n",
    "df_gold = spark.read.parquet(\"dbfs:/Users/simhad76@students.rowan.edu/silver_layer_data\")\n",
    "\n",
    "# Display original schema\n",
    "print(\"\\nOriginal Schema:\")\n",
    "df_gold.printSchema()\n",
    "\n",
    "# Show a sample of data\n",
    "print(\"\\nSample Data:\")\n",
    "df_gold.show(5, truncate=False)\n",
    "\n",
    "# Extract release_year and release_month from the release_date\n",
    "df_gold = df_gold.withColumn(\"release_year\", year(col(\"release_date\")))\n",
    "df_gold = df_gold.withColumn(\"release_month\", month(col(\"release_date\")))\n",
    "\n",
    "# Group by year and month and count movies\n",
    "year_month_counts = df_gold.groupBy(\"release_year\", \"release_month\") \\\n",
    "    .agg(count(\"*\").alias(\"movie_count\")) \\\n",
    "    .orderBy(col(\"release_year\"), col(\"release_month\"))\n",
    "\n",
    "# Calculate total and average movies released per month for years 2000 to 2010\n",
    "monthly_stats = year_month_counts \\\n",
    "    .filter((col(\"release_year\") >= 2000) & (col(\"release_year\") <= 2010)) \\\n",
    "    .groupBy(\"release_month\") \\\n",
    "    .agg(\n",
    "        sum(\"movie_count\").alias(\"total_movie_count\"),  # Total number of movies released in this month across years\n",
    "        avg(\"movie_count\").alias(\"average_movie_count\")  # Average movie count for this month across years\n",
    "    ) \\\n",
    "    .orderBy(\"release_month\")\n",
    "\n",
    "# Show total and average movie counts for each month from years 2000 to 2010\n",
    "print(\"\\nTotal and average movie counts for each month from years 2000 to 2010:\")\n",
    "monthly_stats.show(truncate=False)\n"
   ]
  },
  {
   "cell_type": "code",
   "execution_count": 0,
   "metadata": {
    "application/vnd.databricks.v1+cell": {
     "cellMetadata": {
      "byteLimit": 2048000,
      "rowLimit": 10000
     },
     "inputWidgets": {},
     "nuid": "66ae2d1a-1719-42c4-9193-abeaa06f366e",
     "showTitle": false,
     "tableResultSettingsMap": {},
     "title": ""
    }
   },
   "outputs": [
    {
     "output_type": "stream",
     "name": "stdout",
     "output_type": "stream",
     "text": [
      "Number of null rows in release_date column: 2\nMost and least movies released in each language per year:\n+------------+----------------------+---------------+-----------------------+---------------+\n|release_year|most_frequent_language|max_movie_count|least_frequent_language|min_movie_count|\n+------------+----------------------+---------------+-----------------------+---------------+\n|2000        |en                    |3866           |am                     |1              |\n|2001        |en                    |4203           |wo                     |1              |\n|2002        |en                    |4736           |iu                     |1              |\n|2003        |en                    |5222           |ht                     |1              |\n|2004        |en                    |5039           |iu                     |1              |\n|2005        |en                    |4993           |ht                     |1              |\n|2006        |en                    |5203           |wo                     |1              |\n|2007        |en                    |5082           |bo                     |1              |\n|2008        |en                    |5035           |uz                     |1              |\n|2009        |en                    |5090           |ur                     |1              |\n|2010        |en                    |4949           |or                     |1              |\n+------------+----------------------+---------------+-----------------------+---------------+\n\n"
     ]
    }
   ],
   "source": [
    "from pyspark.sql import SparkSession\n",
    "from pyspark.sql.functions import col, count, year, desc, first, max, last, min\n",
    "\n",
    "# Create or get a Spark session\n",
    "spark = SparkSession.builder \\\n",
    "    .appName(\"DataFrame Analysis\") \\\n",
    "    .getOrCreate()\n",
    "\n",
    "# Load the data from DBFS (ensure df_gold is already loaded)\n",
    "df_gold = spark.read.parquet(\"dbfs:/Users/simhad76@students.rowan.edu/silver_layer_data\")\n",
    "\n",
    "# Check for null values in release_date\n",
    "null_release_date_count = df_gold.filter(col(\"release_date\").isNull()).count()\n",
    "print(f\"Number of null rows in release_date column: {null_release_date_count}\")\n",
    "\n",
    "# Extract year directly from release_date since it is already in date format\n",
    "df_gold = df_gold.withColumn(\"release_year\", year(col(\"release_date\")))\n",
    "\n",
    "# Filter out rows with null release_year before aggregation\n",
    "df_gold_filtered = df_gold.filter(col(\"release_year\").isNotNull())\n",
    "\n",
    "# Group by release_year and original_language and count movies\n",
    "language_year_counts = df_gold_filtered.groupBy(\"release_year\", \"original_language\") \\\n",
    "    .agg(count(\"*\").alias(\"movie_count\")) \\\n",
    "    .orderBy(\"release_year\", desc(\"movie_count\"))\n",
    "\n",
    "# Get the most and least movies released in each language for each year\n",
    "most_least_movies_per_year = language_year_counts \\\n",
    "    .groupBy(\"release_year\") \\\n",
    "    .agg(\n",
    "        first(\"original_language\").alias(\"most_frequent_language\"),\n",
    "        max(\"movie_count\").alias(\"max_movie_count\"),\n",
    "        last(\"original_language\").alias(\"least_frequent_language\"),  # Get last entry for least frequent\n",
    "        min(\"movie_count\").alias(\"min_movie_count\")\n",
    "    )\n",
    "\n",
    "# Show results for each year with the most and least frequent languages and their movie counts\n",
    "print(\"Most and least movies released in each language per year:\")\n",
    "most_least_movies_per_year.show(truncate=False)\n"
   ]
  },
  {
   "cell_type": "code",
   "execution_count": 0,
   "metadata": {
    "application/vnd.databricks.v1+cell": {
     "cellMetadata": {
      "byteLimit": 2048000,
      "rowLimit": 10000
     },
     "inputWidgets": {},
     "nuid": "45ccfdec-52c5-4e18-9869-c034bd6b297a",
     "showTitle": false,
     "tableResultSettingsMap": {},
     "title": ""
    }
   },
   "outputs": [
    {
     "output_type": "stream",
     "name": "stdout",
     "output_type": "stream",
     "text": [
      "Total and average vote count for all languages:\n+-----------------+----------------+------------------+-----------+\n|original_language|total_vote_count|average_vote_count|movie_count|\n+-----------------+----------------+------------------+-----------+\n|en               |5605743.0       |104.9410872739526 |53418      |\n|fr               |196931.0        |30.574600217357553|6441       |\n|ja               |131073.0        |21.12717601547389 |6204       |\n|es               |83917.0         |14.473439116936875|5798       |\n|it               |68081.0         |30.285142348754448|2248       |\n|ko               |57599.0         |46.11609287429944 |1249       |\n|de               |48221.0         |8.476182105818246 |5689       |\n|cn               |32397.0         |36.11705685618729 |897        |\n|hi               |31158.0         |26.585324232081913|1172       |\n|zh               |27969.0         |14.248089658685686|1963       |\n|pt               |27836.0         |11.09003984063745 |2510       |\n|sv               |17721.0         |15.081702127659575|1175       |\n|ru               |15503.0         |7.629429133858268 |2032       |\n|th               |10587.0         |20.165714285714287|525        |\n|da               |9235.0          |15.679117147707979|589        |\n|tr               |8656.0          |16.74274661508704 |517        |\n|no               |7693.0          |20.405835543766578|377        |\n|nl               |7247.0          |6.673112338858195 |1086       |\n|pl               |5568.0          |8.285714285714286 |672        |\n|ta               |4619.0          |6.617478510028653 |698        |\n+-----------------+----------------+------------------+-----------+\nonly showing top 20 rows\n\n\nLanguage with the highest vote count:\nLanguage: en, Total Vote Count: 5605743.0, Average Vote Count: 104.94, Total Movies Released: 53418\n\nTotal number of languages: 132\n"
     ]
    }
   ],
   "source": [
    "from pyspark.sql import SparkSession\n",
    "from pyspark.sql.functions import sum, avg, count, desc\n",
    "\n",
    "# Initialize Spark session\n",
    "spark = SparkSession.builder.appName(\"Movie Vote Analysis\").getOrCreate()\n",
    "\n",
    "# Assuming df_gold is already defined and contains your data\n",
    "# Group by original_language and calculate total and average vote counts\n",
    "language_vote_counts = df_gold.groupBy(\"original_language\") \\\n",
    "    .agg(\n",
    "        sum(\"vote_count\").alias(\"total_vote_count\"),\n",
    "        avg(\"vote_count\").alias(\"average_vote_count\"),\n",
    "        count(\"*\").alias(\"movie_count\")  # Count of movies for calculating average votes\n",
    "    ) \\\n",
    "    .orderBy(desc(\"total_vote_count\"))\n",
    "\n",
    "# Show all languages with their total and average vote counts\n",
    "print(\"Total and average vote count for all languages:\")\n",
    "language_vote_counts.show(truncate=False)\n",
    "\n",
    "# Show the language with the highest total vote count at the top\n",
    "top_language = language_vote_counts.first()  # Get the top voted language\n",
    "print(\"\\nLanguage with the highest vote count:\")\n",
    "print(f\"Language: {top_language['original_language']}, Total Vote Count: {top_language['total_vote_count']}, Average Vote Count: {top_language['average_vote_count']:.2f}, Total Movies Released: {top_language['movie_count']}\")\n",
    "\n",
    "# Calculate total number of languages\n",
    "total_languages = language_vote_counts.count()  # Use language_vote_counts instead of language_counts\n",
    "print(f\"\\nTotal number of languages: {total_languages}\")\n",
    "\n",
    "\n"
   ]
  },
  {
   "cell_type": "code",
   "execution_count": 0,
   "metadata": {
    "application/vnd.databricks.v1+cell": {
     "cellMetadata": {
      "byteLimit": 2048000,
      "rowLimit": 10000
     },
     "inputWidgets": {},
     "nuid": "b0a4648c-1d44-4602-95bc-9707581c2b3a",
     "showTitle": false,
     "tableResultSettingsMap": {},
     "title": ""
    }
   },
   "outputs": [
    {
     "output_type": "stream",
     "name": "stdout",
     "output_type": "stream",
     "text": [
      "Number of null rows in genre column: 0\nNumber of distinct genres: 4225\n+-----------------+--------------------------------+------------------------+------------+----------------+------------------+-----------+-------------+--------------------+\n|original_language|title                           |genre                   |release_date|total_vote_count|average_vote_count|movie_count|genre_type   |Performance_Analysis|\n+-----------------+--------------------------------+------------------------+------------+----------------+------------------+-----------+-------------+--------------------+\n|en               |Fantasia 2000                   |Animation, Family, Music|2000-01-01  |5605743.0       |104.9410872739526 |53418      |multi_genre  |Hit                 |\n|ko               |Peppermint Candy                |Drama                   |2000-01-01  |57599.0         |46.11609287429944 |1249       |single_genre |Hit                 |\n|en               |Nautilus                        |Action, Science Fiction |2000-01-01  |5605743.0       |104.9410872739526 |53418      |multi_genre  |Hit                 |\n|en               |A Profile of In Which We Serve  |Documentary             |2000-01-01  |5605743.0       |104.9410872739526 |53418      |single_genre |Hit                 |\n|da               |D-Day                           |TV Movie, Crime, Drama  |2000-01-01  |9235.0          |15.679117147707979|589        |multi_genre  |Hit                 |\n|is               |Angels of the Universe          |Drama                   |2000-01-01  |973.0           |3.4874551971326166|279        |single_genre |Hit                 |\n|en               |Helter Skelter                  |Horror                  |2000-01-01  |5605743.0       |104.9410872739526 |53418      |single_genre |Hit                 |\n|en               |The Mummy Theme Park            |Horror                  |2000-01-01  |5605743.0       |104.9410872739526 |53418      |single_genre |Hit                 |\n|en               |Table One                       |Comedy                  |2000-01-01  |5605743.0       |104.9410872739526 |53418      |single_genre |Hit                 |\n|en               |Erotic Day Dream                |Science Fiction         |2000-01-01  |5605743.0       |104.9410872739526 |53418      |single_genre |Hit                 |\n|en               |Cinderella                      |Unknown genre           |2000-01-01  |5605743.0       |104.9410872739526 |53418      |unknown_genre|Hit                 |\n|en               |Bring Him Home                  |Family, Drama           |2000-01-01  |5605743.0       |104.9410872739526 |53418      |multi_genre  |Hit                 |\n|en               |After Sex                       |Comedy, Drama, Romance  |2000-01-01  |5605743.0       |104.9410872739526 |53418      |multi_genre  |Hit                 |\n|en               |Last Stand                      |Unknown genre           |2000-01-01  |5605743.0       |104.9410872739526 |53418      |unknown_genre|Hit                 |\n|en               |Lost in the Pershing Point Hotel|Unknown genre           |2000-01-01  |5605743.0       |104.9410872739526 |53418      |unknown_genre|Hit                 |\n|ja               |Snow/Woman                      |Unknown genre           |2000-01-01  |131073.0        |21.12717601547389 |6204       |unknown_genre|Hit                 |\n|en               |The Seduction of Maxine         |Thriller                |2000-01-01  |5605743.0       |104.9410872739526 |53418      |single_genre |Hit                 |\n|pt               |The Red Car                     |Comedy, Drama           |2000-01-01  |27836.0         |11.09003984063745 |2510       |multi_genre  |Hit                 |\n|ru               |Lost Paradise                   |Drama                   |2000-01-01  |15503.0         |7.629429133858268 |2032       |single_genre |Hit                 |\n|en               |Once Upon a Time: Sergio Leone  |Documentary             |2000-01-01  |5605743.0       |104.9410872739526 |53418      |single_genre |Hit                 |\n+-----------------+--------------------------------+------------------------+------------+----------------+------------------+-----------+-------------+--------------------+\nonly showing top 20 rows\n\nData loaded from Delta table:\n+-----------------+--------------------------------+------------------------+------------+----------------+------------------+-----------+-------------+--------------------+\n|original_language|title                           |genre                   |release_date|total_vote_count|average_vote_count|movie_count|genre_type   |Performance_Analysis|\n+-----------------+--------------------------------+------------------------+------------+----------------+------------------+-----------+-------------+--------------------+\n|en               |Fantasia 2000                   |Animation, Family, Music|2000-01-01  |5605743.0       |104.9410872739526 |53418      |multi_genre  |Hit                 |\n|ko               |Peppermint Candy                |Drama                   |2000-01-01  |57599.0         |46.11609287429944 |1249       |single_genre |Hit                 |\n|en               |Nautilus                        |Action, Science Fiction |2000-01-01  |5605743.0       |104.9410872739526 |53418      |multi_genre  |Hit                 |\n|en               |A Profile of In Which We Serve  |Documentary             |2000-01-01  |5605743.0       |104.9410872739526 |53418      |single_genre |Hit                 |\n|da               |D-Day                           |TV Movie, Crime, Drama  |2000-01-01  |9235.0          |15.679117147707979|589        |multi_genre  |Hit                 |\n|is               |Angels of the Universe          |Drama                   |2000-01-01  |973.0           |3.4874551971326166|279        |single_genre |Hit                 |\n|en               |Helter Skelter                  |Horror                  |2000-01-01  |5605743.0       |104.9410872739526 |53418      |single_genre |Hit                 |\n|en               |The Mummy Theme Park            |Horror                  |2000-01-01  |5605743.0       |104.9410872739526 |53418      |single_genre |Hit                 |\n|en               |Table One                       |Comedy                  |2000-01-01  |5605743.0       |104.9410872739526 |53418      |single_genre |Hit                 |\n|en               |Erotic Day Dream                |Science Fiction         |2000-01-01  |5605743.0       |104.9410872739526 |53418      |single_genre |Hit                 |\n|en               |Cinderella                      |Unknown genre           |2000-01-01  |5605743.0       |104.9410872739526 |53418      |unknown_genre|Hit                 |\n|en               |Bring Him Home                  |Family, Drama           |2000-01-01  |5605743.0       |104.9410872739526 |53418      |multi_genre  |Hit                 |\n|en               |After Sex                       |Comedy, Drama, Romance  |2000-01-01  |5605743.0       |104.9410872739526 |53418      |multi_genre  |Hit                 |\n|en               |Last Stand                      |Unknown genre           |2000-01-01  |5605743.0       |104.9410872739526 |53418      |unknown_genre|Hit                 |\n|en               |Lost in the Pershing Point Hotel|Unknown genre           |2000-01-01  |5605743.0       |104.9410872739526 |53418      |unknown_genre|Hit                 |\n|ja               |Snow/Woman                      |Unknown genre           |2000-01-01  |131073.0        |21.12717601547389 |6204       |unknown_genre|Hit                 |\n|en               |The Seduction of Maxine         |Thriller                |2000-01-01  |5605743.0       |104.9410872739526 |53418      |single_genre |Hit                 |\n|pt               |The Red Car                     |Comedy, Drama           |2000-01-01  |27836.0         |11.09003984063745 |2510       |multi_genre  |Hit                 |\n|ru               |Lost Paradise                   |Drama                   |2000-01-01  |15503.0         |7.629429133858268 |2032       |single_genre |Hit                 |\n|en               |Once Upon a Time: Sergio Leone  |Documentary             |2000-01-01  |5605743.0       |104.9410872739526 |53418      |single_genre |Hit                 |\n+-----------------+--------------------------------+------------------------+------------+----------------+------------------+-----------+-------------+--------------------+\nonly showing top 20 rows\n\n"
     ]
    }
   ],
   "source": [
    "\n",
    "from pyspark.sql import SparkSession, DataFrame\n",
    "from pyspark.sql.functions import col, count, avg, sum as _sum, when, split, size, round\n",
    "\n",
    "# Create or get a Spark session\n",
    "spark = SparkSession.builder.appName(\"Movie Data Processing\").getOrCreate()\n",
    "\n",
    "# Load the silver layer data\n",
    "df_silver = spark.read.parquet(\"dbfs:/Users/simhad76@students.rowan.edu/silver_layer_data\")\n",
    "\n",
    "def process_movie_data(df: DataFrame) -> DataFrame:\n",
    "    \"\"\"\n",
    "    Process the movie DataFrame to classify genres and perform aggregations.\n",
    "    \n",
    "    Args:\n",
    "        df (DataFrame): Input DataFrame containing movie data.\n",
    "        \n",
    "    Returns:\n",
    "        DataFrame: Final processed DataFrame with aggregated metrics and genre classification.\n",
    "    \"\"\"\n",
    "    # Check for null values in the genre column\n",
    "    null_genre_count = df.filter(col(\"genre\").isNull()).count()\n",
    "    print(f\"Number of null rows in genre column: {null_genre_count}\")\n",
    "\n",
    "    # Count distinct genres\n",
    "    distinct_genres = df.select(\"genre\").distinct().count()\n",
    "    print(f\"Number of distinct genres: {distinct_genres}\")\n",
    "\n",
    "    # Determine if a film is multi-genre, single-genre, or unknown genre\n",
    "    df = df.withColumn(\n",
    "        \"genre_count\",\n",
    "        size(split(col(\"genre\"), \",\"))\n",
    "    ).withColumn(\n",
    "        \"genre_type\",\n",
    "        when((col(\"genre\") == \"Unknown\") | (col(\"genre\").startswith(\"Unknown\")) & (col(\"genre_count\") == 1), \"unknown_genre\")\n",
    "        .when(col(\"genre_count\") > 1, \"multi_genre\")\n",
    "        .otherwise(\"single_genre\")\n",
    "    )\n",
    "\n",
    "    # Aggregate metrics to create the gold layer based on original_language\n",
    "    gold_layer = df.groupBy(\"original_language\").agg(\n",
    "        _sum(\"vote_count\").alias(\"total_vote_count\"),\n",
    "        avg(\"vote_count\").alias(\"average_vote_count\"),\n",
    "        count(\"*\").alias(\"movie_count\")\n",
    "    ).orderBy(col(\"total_vote_count\").desc())\n",
    "\n",
    "    # Merge gold layer with the original DataFrame based on original_language\n",
    "    merged_df = df.join(gold_layer, on=\"original_language\", how=\"inner\")\n",
    "\n",
    "    # Select relevant columns from merged DataFrame including new columns only\n",
    "    final_df = merged_df.select(\n",
    "        \"original_language\",\n",
    "        \"title\",  # Title from silver layer\n",
    "        \"genre\",  # Genre from silver layer\n",
    "        \"release_date\",  # Release date from silver layer\n",
    "        \"total_vote_count\",  # Total vote count from gold layer\n",
    "        \"average_vote_count\",  # Average vote count from gold layer\n",
    "        \"movie_count\",  # Movie count from gold layer\n",
    "        \"genre_type\",  # Add genre_type to final output\n",
    "        \"Performance_Analysis\",\n",
    "    )\n",
    "\n",
    "    return final_df\n",
    "\n",
    "# Process the movie data\n",
    "final_df_loaded = process_movie_data(df_silver)\n",
    "\n",
    "# Show the final merged DataFrame including genre_type\n",
    "final_df_loaded.show(truncate=False)\n",
    "\n",
    "# Write the merged DataFrame to persistent storage\n",
    "final_df_loaded.write.format(\"delta\").mode(\"overwrite\").save(\"dbfs:/Users/simhad76@students.rowan.edu/moviedata\")\n",
    "\n",
    "# Load the final merged DataFrame from Delta table for inspection (if needed)\n",
    "final_df = spark.read.format(\"delta\").load(\"dbfs:/Users/simhad76@students.rowan.edu/moviedata\")\n",
    "\n",
    "# Show the loaded data from Delta table\n",
    "print(\"Data loaded from Delta table:\")\n",
    "final_df.show(truncate=False)\n"
   ]
  },
  {
   "cell_type": "code",
   "execution_count": 0,
   "metadata": {
    "application/vnd.databricks.v1+cell": {
     "cellMetadata": {
      "byteLimit": 2048000,
      "rowLimit": 10000
     },
     "inputWidgets": {},
     "nuid": "a470bf88-1da3-487d-8406-7298a72aa389",
     "showTitle": false,
     "tableResultSettingsMap": {},
     "title": ""
    }
   },
   "outputs": [
    {
     "output_type": "stream",
     "name": "stdout",
     "output_type": "stream",
     "text": [
      "Number of null rows in genre column: 0\nNumber of distinct genres: 4225\n\nYear-Over-Year Growth by Original Language:\n+-----------------+----+----+----+----+----+----+----+----+----+----+----+-----------+\n|original_language|2000|2001|2002|2003|2004|2005|2006|2007|2008|2009|2010|yoy_growth |\n+-----------------+----+----+----+----+----+----+----+----+----+----+----+-----------+\n|en               |3866|4203|4736|5222|5039|4993|5203|5082|5035|5090|4949|Low Growth |\n|cr               |1   |0   |0   |0   |1   |0   |1   |0   |0   |1   |0   |Low Growth |\n|fy               |1   |1   |0   |0   |0   |0   |0   |0   |0   |0   |0   |No Growth  |\n|vi               |2   |5   |6   |9   |8   |11  |8   |4   |5   |9   |6   |Low Growth |\n|ne               |2   |2   |2   |3   |2   |2   |1   |3   |2   |3   |4   |High Growth|\n|nb               |0   |1   |1   |0   |2   |2   |1   |2   |0   |3   |1   |Low Growth |\n|ps               |0   |0   |0   |1   |2   |0   |0   |1   |0   |0   |0   |No Growth  |\n|ro               |4   |15  |14  |7   |14  |12  |18  |11  |20  |17  |27  |High Growth|\n|sl               |8   |14  |13  |12  |13  |11  |11  |12  |12  |9   |9   |No Growth  |\n|uz               |1   |2   |1   |3   |3   |2   |0   |1   |1   |0   |1   |High Growth|\n|ur               |8   |3   |6   |6   |2   |5   |3   |5   |4   |1   |3   |High Growth|\n|ka               |4   |6   |3   |1   |2   |4   |4   |3   |3   |3   |9   |High Growth|\n|ba               |0   |1   |1   |0   |0   |0   |0   |0   |0   |0   |0   |No Growth  |\n|ti               |0   |0   |0   |1   |0   |0   |0   |0   |0   |0   |0   |No Growth  |\n|kw               |0   |0   |0   |1   |0   |0   |0   |0   |0   |0   |0   |No Growth  |\n|nv               |0   |0   |0   |0   |0   |0   |0   |0   |0   |1   |0   |Low Growth |\n|lv               |17  |27  |16  |28  |24  |21  |18  |24  |18  |23  |13  |Low Growth |\n|pl               |64  |70  |57  |50  |53  |57  |65  |62  |62  |70  |62  |Low Growth |\n|cn               |148 |117 |103 |141 |82  |57  |49  |53  |49  |48  |50  |High Growth|\n|st               |0   |0   |1   |0   |0   |0   |2   |0   |0   |0   |0   |No Growth  |\n+-----------------+----+----+----+----+----+----+----+----+----+----+----+-----------+\nonly showing top 20 rows\n\n\nFinal Merged DataFrame with Genre Type, Average Popularity, and YOY Growth:\n+-----------------+-------------+------+----------+--------------------------------+------------+------------------------+--------------------+-----------+----------------+------------------+-----------+------------------+-----------+\n|original_language|genre_type   |id    |popularity|title                           |release_date|genre                   |Performance_Analysis|genre_count|total_vote_count|average_vote_count|movie_count|average_popularity|yoy_growth |\n+-----------------+-------------+------+----------+--------------------------------+------------+------------------------+--------------------+-----------+----------------+------------------+-----------+------------------+-----------+\n|en               |multi_genre  |49948 |14.509    |Fantasia 2000                   |2000-01-01  |Animation, Family, Music|Hit                 |3          |5605743.0       |104.9410872739526 |53418      |3.986             |Low Growth |\n|ko               |single_genre |41245 |11.201    |Peppermint Candy                |2000-01-01  |Drama                   |Hit                 |1          |57599.0         |46.11609287429944 |1249       |1.215             |High Growth|\n|en               |multi_genre  |46462 |6.597     |Nautilus                        |2000-01-01  |Action, Science Fiction |Hit                 |2          |5605743.0       |104.9410872739526 |53418      |3.986             |Low Growth |\n|en               |single_genre |477164|5.274     |A Profile of In Which We Serve  |2000-01-01  |Documentary             |Hit                 |1          |5605743.0       |104.9410872739526 |53418      |1.215             |Low Growth |\n|da               |multi_genre  |55178 |4.95      |D-Day                           |2000-01-01  |TV Movie, Crime, Drama  |Hit                 |3          |9235.0          |15.679117147707979|589        |3.986             |Low Growth |\n|is               |single_genre |20152 |4.865     |Angels of the Universe          |2000-01-01  |Drama                   |Hit                 |1          |973.0           |3.4874551971326166|279        |1.215             |High Growth|\n|en               |single_genre |196139|4.483     |Helter Skelter                  |2000-01-01  |Horror                  |Hit                 |1          |5605743.0       |104.9410872739526 |53418      |1.215             |Low Growth |\n|en               |single_genre |56721 |4.369     |The Mummy Theme Park            |2000-01-01  |Horror                  |Hit                 |1          |5605743.0       |104.9410872739526 |53418      |1.215             |Low Growth |\n|en               |single_genre |218188|4.038     |Table One                       |2000-01-01  |Comedy                  |Hit                 |1          |5605743.0       |104.9410872739526 |53418      |1.215             |Low Growth |\n|en               |single_genre |625522|3.921     |Erotic Day Dream                |2000-01-01  |Science Fiction         |Hit                 |1          |5605743.0       |104.9410872739526 |53418      |1.215             |Low Growth |\n|en               |unknown_genre|289673|3.914     |Cinderella                      |2000-01-01  |Unknown genre           |Hit                 |1          |5605743.0       |104.9410872739526 |53418      |0.452             |Low Growth |\n|en               |multi_genre  |343103|3.812     |Bring Him Home                  |2000-01-01  |Family, Drama           |Hit                 |2          |5605743.0       |104.9410872739526 |53418      |3.986             |Low Growth |\n|en               |multi_genre  |71618 |3.727     |After Sex                       |2000-01-01  |Comedy, Drama, Romance  |Hit                 |3          |5605743.0       |104.9410872739526 |53418      |3.986             |Low Growth |\n|en               |unknown_genre|273471|3.721     |Last Stand                      |2000-01-01  |Unknown genre           |Hit                 |1          |5605743.0       |104.9410872739526 |53418      |0.452             |Low Growth |\n|en               |unknown_genre|287845|3.637     |Lost in the Pershing Point Hotel|2000-01-01  |Unknown genre           |Hit                 |1          |5605743.0       |104.9410872739526 |53418      |0.452             |Low Growth |\n|ja               |unknown_genre|453898|3.602     |Snow/Woman                      |2000-01-01  |Unknown genre           |Hit                 |1          |131073.0        |21.12717601547389 |6204       |0.452             |High Growth|\n|en               |single_genre |29931 |3.601     |The Seduction of Maxine         |2000-01-01  |Thriller                |Hit                 |1          |5605743.0       |104.9410872739526 |53418      |1.215             |Low Growth |\n|pt               |multi_genre  |283172|3.494     |The Red Car                     |2000-01-01  |Comedy, Drama           |Hit                 |2          |27836.0         |11.09003984063745 |2510       |3.986             |High Growth|\n|ru               |single_genre |343785|3.479     |Lost Paradise                   |2000-01-01  |Drama                   |Hit                 |1          |15503.0         |7.629429133858268 |2032       |1.215             |High Growth|\n|en               |single_genre |264117|3.39      |Once Upon a Time: Sergio Leone  |2000-01-01  |Documentary             |Hit                 |1          |5605743.0       |104.9410872739526 |53418      |1.215             |Low Growth |\n+-----------------+-------------+------+----------+--------------------------------+------------+------------------------+--------------------+-----------+----------------+------------------+-----------+------------------+-----------+\nonly showing top 20 rows\n\n\nNumber of columns in the merged DataFrame: 14\n\nNumber of rows in the merged DataFrame: 104905\n\nSchema of the merged DataFrame:\nroot\n |-- original_language: string (nullable = true)\n |-- title: string (nullable = true)\n |-- genre: string (nullable = true)\n |-- release_date: date (nullable = true)\n |-- total_vote_count: double (nullable = true)\n |-- average_vote_count: double (nullable = true)\n |-- movie_count: long (nullable = true)\n |-- genre_type: string (nullable = true)\n |-- Performance_Analysis: string (nullable = true)\n |-- id: integer (nullable = true)\n |-- popularity: double (nullable = true)\n |-- genre_count: integer (nullable = true)\n |-- average_popularity: double (nullable = true)\n |-- yoy_growth: string (nullable = true)\n\n"
     ]
    }
   ],
   "source": [
    "\n",
    "from pyspark.sql import DataFrame, SparkSession\n",
    "from pyspark.sql.functions import col, count, avg, sum as _sum, when, split, size, round, expr\n",
    "\n",
    "def process_movie_data(df: DataFrame) -> DataFrame:\n",
    "    \"\"\"\n",
    "    Process the movie DataFrame to classify genres and perform aggregations,\n",
    "    and calculate year-over-year growth for movies by language and year.\n",
    "    \n",
    "    Args:\n",
    "        df (DataFrame): Input DataFrame containing movie data.\n",
    "        \n",
    "    Returns:\n",
    "        DataFrame: Final processed DataFrame with aggregated metrics, genre classification,\n",
    "                    average popularity, and year-over-year growth.\n",
    "    \"\"\"\n",
    "    # Check for null values in the genre column\n",
    "    null_genre_count = df.filter(col(\"genre\").isNull()).count()\n",
    "    print(f\"Number of null rows in genre column: {null_genre_count}\")\n",
    "\n",
    "    # Count distinct genres\n",
    "    distinct_genres = df.select(\"genre\").distinct().count()\n",
    "    print(f\"Number of distinct genres: {distinct_genres}\")\n",
    "\n",
    "    # Determine if a film is multi-genre, single-genre, or unknown genre\n",
    "    df = df.withColumn(\n",
    "        \"genre_count\",\n",
    "        size(split(col(\"genre\"), \",\"))\n",
    "    ).withColumn(\n",
    "        \"genre_type\",\n",
    "        when(col(\"genre\").startswith(\"Unknown\"), \"unknown_genre\")\n",
    "        .when(col(\"genre_count\") > 1, \"multi_genre\")\n",
    "        .otherwise(\"single_genre\")\n",
    "    )\n",
    "\n",
    "    # Calculate average popularity for each genre type\n",
    "    avg_popularity_by_genre = df.groupBy(\"genre_type\").agg(\n",
    "        round(avg(\"popularity\"), 3).alias(\"average_popularity\")  # Round to 3 decimals\n",
    "    )\n",
    "\n",
    "    # Aggregate metrics to create the gold layer based on original_language\n",
    "    gold_layer = df.groupBy(\"original_language\").agg(\n",
    "        _sum(\"vote_count\").alias(\"total_vote_count\"),\n",
    "        avg(\"vote_count\").alias(\"average_vote_count\"),\n",
    "        count(\"*\").alias(\"movie_count\")\n",
    "    ).orderBy(col(\"total_vote_count\").desc())\n",
    "\n",
    "    # Merge gold layer with the original DataFrame based on original_language\n",
    "    merged_df = df.join(gold_layer, on=\"original_language\", how=\"inner\")\n",
    "\n",
    "    # Join with average popularity by genre type\n",
    "    merged_df = merged_df.join(avg_popularity_by_genre, on=\"genre_type\", how=\"left\")\n",
    "\n",
    "    # Convert release_date to date type and extract year for YOY growth analysis\n",
    "    df = df.withColumn(\"release_year\", expr(\"year(to_date(release_date, 'M/d/yyyy'))\"))\n",
    "\n",
    "    # Filter out rows with null release_year before aggregation\n",
    "    df_filtered = df.filter(col(\"release_year\").isNotNull())\n",
    "\n",
    "    # Group by release_year and original_language and count movies\n",
    "    language_year_counts = df_filtered.groupBy(\"release_year\", \"original_language\") \\\n",
    "        .agg(count(\"*\").alias(\"movie_count\")) \\\n",
    "        .orderBy(\"release_year\")\n",
    "\n",
    "    # Calculate YOY growth\n",
    "    yoy_growth_df = (\n",
    "        language_year_counts\n",
    "        .groupBy(\"original_language\")\n",
    "        .pivot(\"release_year\")  # Automatically pivots years based on available data\n",
    "        .agg(_sum(\"movie_count\").alias(\"movie_count\"))\n",
    "        .fillna(0)  # Fill missing values with 0 for years with no movies\n",
    "    )\n",
    "\n",
    "    # Add yoy_growth column based on movie counts for specific years (adjust years as needed)\n",
    "    yoy_growth_df = yoy_growth_df.withColumn(\n",
    "        \"yoy_growth\",\n",
    "        when(col(\"2009\") < col(\"2010\"), \"High Growth\")\n",
    "        .when(col(\"2009\") == col(\"2010\"), \"No Growth\")\n",
    "        .otherwise(\"Low Growth\")\n",
    "    )\n",
    "\n",
    "    print(\"\\nYear-Over-Year Growth by Original Language:\")\n",
    "    yoy_growth_df.show(truncate=False)\n",
    "\n",
    "    # Join YOY growth back to the final DataFrame based on original_language\n",
    "    final_df = merged_df.join(yoy_growth_df.select(\"original_language\", \"yoy_growth\"), \n",
    "                               on=\"original_language\", \n",
    "                               how=\"left\")\n",
    "\n",
    "    # Drop specified columns from the final DataFrame\n",
    "    final_df = final_df.drop(\n",
    "        \"previous_year_movies\",\n",
    "        \"current_year_movies\",\n",
    "        \"vote_count\",\n",
    "        \"vote_average\"\n",
    "    )\n",
    "\n",
    "    return final_df\n",
    "\n",
    "# Example usage:\n",
    "# Assuming df_silver is your initial DataFrame loaded from DBFS.\n",
    "final_df_loaded = process_movie_data(df_silver)\n",
    "\n",
    "# Show the final merged DataFrame including genre_type and average popularity with YOY growth\n",
    "print(\"\\nFinal Merged DataFrame with Genre Type, Average Popularity, and YOY Growth:\")\n",
    "final_df_loaded.show(truncate=False)\n",
    "\n",
    "# Optionally write the merged DataFrame to persistent storage for further use.\n",
    "final_df_loaded.write.format(\"delta\").mode(\"overwrite\").save(\"dbfs:/Users/simhad76@students.rowan.edu/moviedata\")\n",
    "\n",
    "# Load the final merged DataFrame from Delta table for inspection (if needed)\n",
    "final_df = spark.read.format(\"delta\").load(\"dbfs:/Users/simhad76@students.rowan.edu/moviedata\")\n",
    "\n",
    "# Show number of columns and their schema of the loaded DataFrame\n",
    "num_columns = len(final_df.columns)\n",
    "print(f\"\\nNumber of columns in the merged DataFrame: {num_columns}\")\n",
    "\n",
    "# Show number of rows in the loaded DataFrame\n",
    "num_rows = final_df.count()\n",
    "print(f\"\\nNumber of rows in the merged DataFrame: {num_rows}\")\n",
    "\n",
    "# Print schema of the loaded DataFrame\n",
    "print(\"\\nSchema of the merged DataFrame:\")\n",
    "final_df.printSchema()\n"
   ]
  },
  {
   "cell_type": "code",
   "execution_count": 0,
   "metadata": {
    "application/vnd.databricks.v1+cell": {
     "cellMetadata": {
      "byteLimit": 2048000,
      "rowLimit": 10000
     },
     "inputWidgets": {},
     "nuid": "a242344e-b434-47d4-bab6-da6e7e218005",
     "showTitle": false,
     "tableResultSettingsMap": {},
     "title": ""
    }
   },
   "outputs": [
    {
     "output_type": "stream",
     "name": "stdout",
     "output_type": "stream",
     "text": [
      "\nTable 'tmbdApi_movies_data' has been created successfully.\n"
     ]
    }
   ],
   "source": [
    "# Save final_updated_loaded as a table in Spark SQL (Hive metastore)\n",
    "table_name = \"tmbdApi_movies_data\"  # Specify your desired table name\n",
    "\n",
    "final_df.write.format(\"delta\").mode(\"overwrite\").saveAsTable(table_name)\n",
    "\n",
    "print(f\"\\nTable '{table_name}' has been created successfully.\")"
   ]
  },
  {
   "cell_type": "code",
   "execution_count": 0,
   "metadata": {
    "application/vnd.databricks.v1+cell": {
     "cellMetadata": {
      "byteLimit": 2048000,
      "rowLimit": 10000
     },
     "inputWidgets": {},
     "nuid": "f6edc42d-cae6-4942-94e6-c9f68c5106a8",
     "showTitle": false,
     "tableResultSettingsMap": {},
     "title": ""
    }
   },
   "outputs": [
    {
     "output_type": "stream",
     "name": "stdout",
     "output_type": "stream",
     "text": [
      "\nContents of the table 'tmbdApi_movies_data':\n+-----------------+--------------------------------+------------------------+------------+----------------+------------------+-----------+-------------+--------------------+------+----------+-----------+------------------+-----------+\n|original_language|title                           |genre                   |release_date|total_vote_count|average_vote_count|movie_count|genre_type   |Performance_Analysis|id    |popularity|genre_count|average_popularity|yoy_growth |\n+-----------------+--------------------------------+------------------------+------------+----------------+------------------+-----------+-------------+--------------------+------+----------+-----------+------------------+-----------+\n|en               |Fantasia 2000                   |Animation, Family, Music|2000-01-01  |5605743.0       |104.9410872739526 |53418      |multi_genre  |Hit                 |49948 |14.509    |3          |3.986             |Low Growth |\n|ko               |Peppermint Candy                |Drama                   |2000-01-01  |57599.0         |46.11609287429944 |1249       |single_genre |Hit                 |41245 |11.201    |1          |1.215             |High Growth|\n|en               |Nautilus                        |Action, Science Fiction |2000-01-01  |5605743.0       |104.9410872739526 |53418      |multi_genre  |Hit                 |46462 |6.597     |2          |3.986             |Low Growth |\n|en               |A Profile of In Which We Serve  |Documentary             |2000-01-01  |5605743.0       |104.9410872739526 |53418      |single_genre |Hit                 |477164|5.274     |1          |1.215             |Low Growth |\n|da               |D-Day                           |TV Movie, Crime, Drama  |2000-01-01  |9235.0          |15.679117147707979|589        |multi_genre  |Hit                 |55178 |4.95      |3          |3.986             |Low Growth |\n|is               |Angels of the Universe          |Drama                   |2000-01-01  |973.0           |3.4874551971326166|279        |single_genre |Hit                 |20152 |4.865     |1          |1.215             |High Growth|\n|en               |Helter Skelter                  |Horror                  |2000-01-01  |5605743.0       |104.9410872739526 |53418      |single_genre |Hit                 |196139|4.483     |1          |1.215             |Low Growth |\n|en               |The Mummy Theme Park            |Horror                  |2000-01-01  |5605743.0       |104.9410872739526 |53418      |single_genre |Hit                 |56721 |4.369     |1          |1.215             |Low Growth |\n|en               |Table One                       |Comedy                  |2000-01-01  |5605743.0       |104.9410872739526 |53418      |single_genre |Hit                 |218188|4.038     |1          |1.215             |Low Growth |\n|en               |Erotic Day Dream                |Science Fiction         |2000-01-01  |5605743.0       |104.9410872739526 |53418      |single_genre |Hit                 |625522|3.921     |1          |1.215             |Low Growth |\n|en               |Cinderella                      |Unknown genre           |2000-01-01  |5605743.0       |104.9410872739526 |53418      |unknown_genre|Hit                 |289673|3.914     |1          |0.452             |Low Growth |\n|en               |Bring Him Home                  |Family, Drama           |2000-01-01  |5605743.0       |104.9410872739526 |53418      |multi_genre  |Hit                 |343103|3.812     |2          |3.986             |Low Growth |\n|en               |After Sex                       |Comedy, Drama, Romance  |2000-01-01  |5605743.0       |104.9410872739526 |53418      |multi_genre  |Hit                 |71618 |3.727     |3          |3.986             |Low Growth |\n|en               |Last Stand                      |Unknown genre           |2000-01-01  |5605743.0       |104.9410872739526 |53418      |unknown_genre|Hit                 |273471|3.721     |1          |0.452             |Low Growth |\n|en               |Lost in the Pershing Point Hotel|Unknown genre           |2000-01-01  |5605743.0       |104.9410872739526 |53418      |unknown_genre|Hit                 |287845|3.637     |1          |0.452             |Low Growth |\n|ja               |Snow/Woman                      |Unknown genre           |2000-01-01  |131073.0        |21.12717601547389 |6204       |unknown_genre|Hit                 |453898|3.602     |1          |0.452             |High Growth|\n|en               |The Seduction of Maxine         |Thriller                |2000-01-01  |5605743.0       |104.9410872739526 |53418      |single_genre |Hit                 |29931 |3.601     |1          |1.215             |Low Growth |\n|pt               |The Red Car                     |Comedy, Drama           |2000-01-01  |27836.0         |11.09003984063745 |2510       |multi_genre  |Hit                 |283172|3.494     |2          |3.986             |High Growth|\n|ru               |Lost Paradise                   |Drama                   |2000-01-01  |15503.0         |7.629429133858268 |2032       |single_genre |Hit                 |343785|3.479     |1          |1.215             |High Growth|\n|en               |Once Upon a Time: Sergio Leone  |Documentary             |2000-01-01  |5605743.0       |104.9410872739526 |53418      |single_genre |Hit                 |264117|3.39      |1          |1.215             |Low Growth |\n+-----------------+--------------------------------+------------------------+------------+----------------+------------------+-----------+-------------+--------------------+------+----------+-----------+------------------+-----------+\nonly showing top 20 rows\n\n"
     ]
    }
   ],
   "source": [
    "# Load the Delta table into a DataFrame\n",
    "table_name = \"tmbdApi_movies_data\"  # Use the name of your table\n",
    "delta_table_df = spark.read.format(\"delta\").table(table_name)\n",
    "\n",
    "# Show the contents of the Delta table\n",
    "print(f\"\\nContents of the table '{table_name}':\")\n",
    "delta_table_df.show(truncate=False)  # Use truncate=False to see full column values"
   ]
  }
 ],
 "metadata": {
  "application/vnd.databricks.v1+notebook": {
   "computePreferences": null,
   "dashboards": [],
   "environmentMetadata": {
    "base_environment": "",
    "client": "1"
   },
   "language": "python",
   "notebookMetadata": {
    "pythonIndentUnit": 4
   },
   "notebookName": "GOLD_LAYER",
   "widgets": {}
  }
 },
 "nbformat": 4,
 "nbformat_minor": 0
}
